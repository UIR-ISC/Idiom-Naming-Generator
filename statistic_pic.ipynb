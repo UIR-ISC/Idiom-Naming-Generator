{
 "cells": [
  {
   "cell_type": "code",
   "execution_count": 3,
   "metadata": {
    "ExecuteTime": {
     "end_time": "2021-05-27T07:41:29.794610Z",
     "start_time": "2021-05-27T07:41:29.560285Z"
    }
   },
   "outputs": [
    {
     "name": "stdout",
     "output_type": "stream",
     "text": [
      "tensor([[0.2578, 0.4960, 0.4256, 0.7126]])\n",
      "3\n"
     ]
    }
   ],
   "source": [
    "#尝试随机谐音替换\n",
    "import torch\n",
    "import json\n",
    "import pandas as pd\n",
    "from tqdm import tqdm\n",
    "import hanlp\n",
    "import plotly_express as px\n",
    "\n",
    "randnum=torch.rand(1,4)\n",
    "print(randnum)\n",
    "print(torch.argmax(randnum).item())"
   ]
  },
  {
   "cell_type": "code",
   "execution_count": 4,
   "metadata": {
    "ExecuteTime": {
     "end_time": "2021-05-27T07:41:32.314545Z",
     "start_time": "2021-05-27T07:41:32.304543Z"
    },
    "scrolled": true
   },
   "outputs": [
    {
     "data": {
      "text/plain": [
       "{'SIGHAN2005_PKU_CONVSEG': 'https://file.hankcs.com/hanlp/tok/sighan2005-pku-convseg_20200110_153722.zip',\n",
       " 'SIGHAN2005_MSR_CONVSEG': 'https://file.hankcs.com/hanlp/tok/convseg-msr-nocrf-noembed_20200110_153524.zip',\n",
       " 'CTB6_CONVSEG': 'https://file.hankcs.com/hanlp/tok/ctb6_convseg_nowe_nocrf_20200110_004046.zip',\n",
       " 'PKU_NAME_MERGED_SIX_MONTHS_CONVSEG': 'https://file.hankcs.com/hanlp/tok/pku98_6m_conv_ngram_20200110_134736.zip',\n",
       " 'LARGE_ALBERT_BASE': 'https://file.hankcs.com/hanlp/tok/large_cws_albert_base_20200828_011451.zip',\n",
       " 'SIGHAN2005_PKU_BERT_BASE_ZH': 'https://file.hankcs.com/hanlp/tok/sighan2005_pku_bert_base_zh_20201231_141130.zip',\n",
       " 'CTB5_BIAFFINE_DEP_ZH': 'https://file.hankcs.com/hanlp/dep/biaffine_ctb5_20191229_025833.zip',\n",
       " 'CTB7_BIAFFINE_DEP_ZH': 'https://file.hankcs.com/hanlp/dep/biaffine_ctb7_20200109_022431.zip',\n",
       " 'PTB_BIAFFINE_DEP_EN': 'https://file.hankcs.com/hanlp/dep/ptb_dep_biaffine_20200101_174624.zip',\n",
       " 'SEMEVAL16_NEWS_BIAFFINE_ZH': 'https://file.hankcs.com/hanlp/sdp/semeval16-news-biaffine_20191231_235407.zip',\n",
       " 'SEMEVAL16_TEXT_BIAFFINE_ZH': 'https://file.hankcs.com/hanlp/sdp/semeval16-text-biaffine_20200101_002257.zip',\n",
       " 'SEMEVAL15_PAS_BIAFFINE_EN': 'https://file.hankcs.com/hanlp/sdp/semeval15_biaffine_pas_20200103_152405.zip',\n",
       " 'SEMEVAL15_PSD_BIAFFINE_EN': 'https://file.hankcs.com/hanlp/sdp/semeval15_biaffine_psd_20200106_123009.zip',\n",
       " 'SEMEVAL15_DM_BIAFFINE_EN': 'https://file.hankcs.com/hanlp/sdp/semeval15_biaffine_dm_20200106_122808.zip',\n",
       " 'GLOVE_6B_50D': 'http://downloads.cs.stanford.edu/nlp/data/glove.6B.zip#glove.6B.50d.txt',\n",
       " 'GLOVE_6B_100D': 'http://downloads.cs.stanford.edu/nlp/data/glove.6B.zip#glove.6B.100d.txt',\n",
       " 'GLOVE_6B_200D': 'http://downloads.cs.stanford.edu/nlp/data/glove.6B.zip#glove.6B.200d.txt',\n",
       " 'GLOVE_6B_300D': 'http://downloads.cs.stanford.edu/nlp/data/glove.6B.zip#glove.6B.300d.txt',\n",
       " 'GLOVE_840B_300D': 'http://nlp.stanford.edu/data/glove.840B.300d.zip',\n",
       " 'CTB5_POS_RNN': 'https://file.hankcs.com/hanlp/pos/ctb5_pos_rnn_20200113_235925.zip',\n",
       " 'CTB5_POS_RNN_FASTTEXT_ZH': 'https://file.hankcs.com/hanlp/pos/ctb5_pos_rnn_fasttext_20191230_202639.zip',\n",
       " 'CTB9_POS_ALBERT_BASE': 'https://file.hankcs.com/hanlp/pos/ctb9_albert_base_zh_epoch_20_20201011_090522.zip',\n",
       " 'PTB_POS_RNN_FASTTEXT_EN': 'https://file.hankcs.com/hanlp/pos/ptb_pos_rnn_fasttext_20200103_145337.zip',\n",
       " 'FLAIR_LM_FW_WMT11_EN_TF': 'https://file.hankcs.com/hanlp/lm/flair_lm_wmt11_en_20200211_091932.zip#flair_lm_fw_wmt11_en',\n",
       " 'FLAIR_LM_BW_WMT11_EN_TF': 'https://file.hankcs.com/hanlp/lm/flair_lm_wmt11_en_20200211_091932.zip#flair_lm_bw_wmt11_en',\n",
       " 'FLAIR_LM_WMT11_EN': 'https://file.hankcs.com/hanlp/lm/flair_lm_wmt11_en_20200601_205350.zip',\n",
       " 'CONVSEG_W2V_NEWS_TENSITE': 'https://file.hankcs.com/hanlp/embeddings/convseg_embeddings.zip',\n",
       " 'CONVSEG_W2V_NEWS_TENSITE_WORD_PKU': 'https://file.hankcs.com/hanlp/embeddings/convseg_embeddings.zip#news_tensite.pku.words.w2v50',\n",
       " 'CONVSEG_W2V_NEWS_TENSITE_WORD_MSR': 'https://file.hankcs.com/hanlp/embeddings/convseg_embeddings.zip#news_tensite.msr.words.w2v50',\n",
       " 'CONVSEG_W2V_NEWS_TENSITE_CHAR': 'https://file.hankcs.com/hanlp/embeddings/convseg_embeddings.zip#news_tensite.w2v200',\n",
       " 'SEMEVAL16_EMBEDDINGS_CN': 'https://file.hankcs.com/hanlp/embeddings/semeval16_embeddings.zip',\n",
       " 'SEMEVAL16_EMBEDDINGS_300_NEWS_CN': 'https://file.hankcs.com/hanlp/embeddings/semeval16_embeddings.zip#news.fasttext.300.txt',\n",
       " 'SEMEVAL16_EMBEDDINGS_300_TEXT_CN': 'https://file.hankcs.com/hanlp/embeddings/semeval16_embeddings.zip#text.fasttext.300.txt',\n",
       " 'CTB5_FASTTEXT_300_CN': 'https://file.hankcs.com/hanlp/embeddings/ctb.fasttext.300.txt.zip',\n",
       " 'TENCENT_AI_LAB_EMBEDDING': 'https://ai.tencent.com/ailab/nlp/data/Tencent_AILab_ChineseEmbedding.tar.gz#Tencent_AILab_ChineseEmbedding.txt',\n",
       " 'RADICAL_CHAR_EMBEDDING_100': 'https://file.hankcs.com/hanlp/embeddings/radical_char_vec_20191229_013849.zip#character.vec.txt',\n",
       " 'SUBWORD_ENCODING_CWS_ZH_WIKI_BPE_50': 'https://file.hankcs.com/hanlp/embeddings/subword_encoding_cws_20200524_190636.zip#zh.wiki.bpe.vs200000.d50.w2v.txt',\n",
       " 'SUBWORD_ENCODING_CWS_GIGAWORD_UNI': 'https://file.hankcs.com/hanlp/embeddings/subword_encoding_cws_20200524_190636.zip#gigaword_chn.all.a2b.uni.ite50.vec',\n",
       " 'SUBWORD_ENCODING_CWS_GIGAWORD_BI': 'https://file.hankcs.com/hanlp/embeddings/subword_encoding_cws_20200524_190636.zip#gigaword_chn.all.a2b.bi.ite50.vec',\n",
       " 'SUBWORD_ENCODING_CWS_CTB_GAZETTEER_50': 'https://file.hankcs.com/hanlp/embeddings/subword_encoding_cws_20200524_190636.zip#ctb.50d.vec',\n",
       " 'MSRA_NER_BERT_BASE_ZH': 'https://file.hankcs.com/hanlp/ner/ner_bert_base_msra_20200104_185735.zip',\n",
       " 'MSRA_NER_ALBERT_BASE_ZH': 'https://file.hankcs.com/hanlp/ner/ner_albert_base_zh_msra_20200111_202919.zip',\n",
       " 'CONLL03_NER_BERT_BASE_UNCASED_EN': 'https://file.hankcs.com/hanlp/ner/ner_conll03_bert_base_uncased_en_20200104_194352.zip',\n",
       " 'CHNSENTICORP_BERT_BASE_ZH': 'https://file.hankcs.com/hanlp/classification/chnsenticorp_bert_base_20200104_164655.zip',\n",
       " 'SST2_BERT_BASE_EN': 'https://file.hankcs.com/hanlp/classification/sst2_bert_base_uncased_en_20200210_090240.zip',\n",
       " 'SST2_ALBERT_BASE_EN': 'https://file.hankcs.com/hanlp/classification/sst2_albert_base_20200122_205915.zip',\n",
       " 'EMPATHETIC_DIALOGUES_SITUATION_ALBERT_BASE_EN': 'https://file.hankcs.com/hanlp/classification/empathetic_dialogues_situation_albert_base_20200122_212250.zip',\n",
       " 'EMPATHETIC_DIALOGUES_SITUATION_ALBERT_LARGE_EN': 'https://file.hankcs.com/hanlp/classification/empathetic_dialogues_situation_albert_large_20200123_142724.zip',\n",
       " 'FASTTEXT_DEBUG_EMBEDDING_EN': 'https://elit-models.s3-us-west-2.amazonaws.com/fasttext.debug.bin.zip',\n",
       " 'FASTTEXT_CC_300_EN': 'https://dl.fbaipublicfiles.com/fasttext/vectors-crawl/cc.en.300.bin.gz',\n",
       " 'FASTTEXT_WIKI_NYT_AMAZON_FRIENDS_200_EN': 'https://elit-models.s3-us-west-2.amazonaws.com/fasttext-200-wikipedia-nytimes-amazon-friends-20191107.bin',\n",
       " 'FASTTEXT_WIKI_300_ZH': 'https://dl.fbaipublicfiles.com/fasttext/vectors-wiki/wiki.zh.zip#wiki.zh.bin',\n",
       " 'FASTTEXT_WIKI_300_ZH_CLASSICAL': 'https://dl.fbaipublicfiles.com/fasttext/vectors-wiki/wiki.zh_classical.zip#wiki.zh_classical.bin',\n",
       " 'OPEN_TOK_POS_NER_SRL_DEP_SDP_CON_ELECTRA_SMALL_ZH': 'https://file.hankcs.com/hanlp/mtl/open_tok_pos_ner_srl_dep_sdp_con_electra_small_20201223_035557.zip',\n",
       " 'OPEN_TOK_POS_NER_SRL_DEP_SDP_CON_ELECTRA_BASE_ZH': 'https://file.hankcs.com/hanlp/mtl/open_tok_pos_ner_srl_dep_sdp_con_electra_base_20201223_201906.zip',\n",
       " 'CLOSE_TOK_POS_NER_SRL_DEP_SDP_CON_ELECTRA_SMALL_ZH': 'https://file.hankcs.com/hanlp/mtl/close_tok_pos_ner_srl_dep_sdp_con_electra_small_20210111_124159.zip',\n",
       " 'CLOSE_TOK_POS_NER_SRL_DEP_SDP_CON_ELECTRA_BASE_ZH': 'https://file.hankcs.com/hanlp/mtl/close_tok_pos_ner_srl_dep_sdp_con_electra_base_20210111_124519.zip',\n",
       " 'UD_ONTONOTES_TOK_POS_LEM_FEA_NER_SRL_DEP_SDP_CON_MT5_SMALL': 'https://file.hankcs.com/hanlp/mtl/ud_ontonotes_tok_pos_lem_fea_ner_srl_dep_sdp_con_mt5_small_20210228_123458.zip',\n",
       " 'UD_ONTONOTES_TOK_POS_LEM_FEA_NER_SRL_DEP_SDP_CON_XLMR_BASE': 'https://file.hankcs.com/hanlp/mtl/ud_ontonotes_tok_pos_lem_fea_ner_srl_dep_sdp_con_xlm_base_20210114_005825.zip',\n",
       " 'NPCMJ_UD_KYOTO_TOK_POS_CON_BERT_BASE_CHAR_JA': 'https://file.hankcs.com/hanlp/mtl/npcmj_ud_kyoto_tok_pos_ner_dep_con_srl_bert_base_char_ja_20210517_225654.zip',\n",
       " 'UD_CTB_EOS_MUL': 'https://file.hankcs.com/hanlp/eos/eos_ud_ctb_mul_20201222_133543.zip',\n",
       " 'STS_ELECTRA_BASE_ZH': 'https://file.hankcs.com/hanlp/sts/sts_electra_base_zh_20210524_130550.zip'}"
      ]
     },
     "execution_count": 4,
     "metadata": {},
     "output_type": "execute_result"
    }
   ],
   "source": [
    "hanlp.pretrained.ALL"
   ]
  },
  {
   "cell_type": "code",
   "execution_count": 5,
   "metadata": {
    "ExecuteTime": {
     "end_time": "2021-05-27T07:41:49.659025Z",
     "start_time": "2021-05-27T07:41:33.555928Z"
    }
   },
   "outputs": [
    {
     "name": "stderr",
     "output_type": "stream",
     "text": [
      "Downloading https://file.hankcs.com/hanlp/mtl/open_tok_pos_ner_srl_dep_sdp_con_electra_base_20201223_201906.zip to C:\\Users\\Eric\\AppData\\Roaming\\hanlp\\hanlp\\mtl\\open_tok_pos_ner_srl_dep_sdp_con_electra_base_20201223_201906.zip\n",
      " 18% 418.7 MiB   6.6 MiB/s ETA: 51 s [==========                                                   ]"
     ]
    },
    {
     "name": "stdout",
     "output_type": "stream",
     "text": [
      "Download failed due to \u001b[31mKeyboardInterrupt()\u001b[0m. Please download it to C:\\Users\\Eric\\AppData\\Roaming\\hanlp\\hanlp\\mtl\\open_tok_pos_ner_srl_dep_sdp_con_electra_base_20201223_201906.zip by yourself. \u001b[33m Use some decent downloading tools.\n",
      "\u001b[0m\n"
     ]
    },
    {
     "ename": "KeyboardInterrupt",
     "evalue": "",
     "output_type": "error",
     "traceback": [
      "\u001b[1;31m---------------------------------------------------------------------------\u001b[0m",
      "\u001b[1;31mKeyboardInterrupt\u001b[0m                         Traceback (most recent call last)",
      "\u001b[1;32m<ipython-input-5-a635880dfa2d>\u001b[0m in \u001b[0;36m<module>\u001b[1;34m\u001b[0m\n\u001b[1;32m----> 1\u001b[1;33m \u001b[0mpos_tagger\u001b[0m\u001b[1;33m=\u001b[0m\u001b[0mhanlp\u001b[0m\u001b[1;33m.\u001b[0m\u001b[0mload\u001b[0m\u001b[1;33m(\u001b[0m\u001b[0mhanlp\u001b[0m\u001b[1;33m.\u001b[0m\u001b[0mpretrained\u001b[0m\u001b[1;33m.\u001b[0m\u001b[0mmtl\u001b[0m\u001b[1;33m.\u001b[0m\u001b[0mOPEN_TOK_POS_NER_SRL_DEP_SDP_CON_ELECTRA_BASE_ZH\u001b[0m\u001b[1;33m)\u001b[0m\u001b[1;33m\u001b[0m\u001b[1;33m\u001b[0m\u001b[0m\n\u001b[0m",
      "\u001b[1;32mD:\\Software\\Anaconda3\\lib\\site-packages\\hanlp\\__init__.py\u001b[0m in \u001b[0;36mload\u001b[1;34m(save_dir, verbose, **kwargs)\u001b[0m\n\u001b[0;32m     41\u001b[0m         \u001b[1;32mfrom\u001b[0m \u001b[0mhanlp_common\u001b[0m\u001b[1;33m.\u001b[0m\u001b[0mconstant\u001b[0m \u001b[1;32mimport\u001b[0m \u001b[0mHANLP_VERBOSE\u001b[0m\u001b[1;33m\u001b[0m\u001b[1;33m\u001b[0m\u001b[0m\n\u001b[0;32m     42\u001b[0m         \u001b[0mverbose\u001b[0m \u001b[1;33m=\u001b[0m \u001b[0mHANLP_VERBOSE\u001b[0m\u001b[1;33m\u001b[0m\u001b[1;33m\u001b[0m\u001b[0m\n\u001b[1;32m---> 43\u001b[1;33m     \u001b[1;32mreturn\u001b[0m \u001b[0mload_from_meta_file\u001b[0m\u001b[1;33m(\u001b[0m\u001b[0msave_dir\u001b[0m\u001b[1;33m,\u001b[0m \u001b[1;34m'meta.json'\u001b[0m\u001b[1;33m,\u001b[0m \u001b[0mverbose\u001b[0m\u001b[1;33m=\u001b[0m\u001b[0mverbose\u001b[0m\u001b[1;33m,\u001b[0m \u001b[1;33m**\u001b[0m\u001b[0mkwargs\u001b[0m\u001b[1;33m)\u001b[0m\u001b[1;33m\u001b[0m\u001b[1;33m\u001b[0m\u001b[0m\n\u001b[0m\u001b[0;32m     44\u001b[0m \u001b[1;33m\u001b[0m\u001b[0m\n\u001b[0;32m     45\u001b[0m \u001b[1;33m\u001b[0m\u001b[0m\n",
      "\u001b[1;32mD:\\Software\\Anaconda3\\lib\\site-packages\\hanlp\\utils\\component_util.py\u001b[0m in \u001b[0;36mload_from_meta_file\u001b[1;34m(save_dir, meta_filename, transform_only, verbose, **kwargs)\u001b[0m\n\u001b[0;32m     31\u001b[0m     \u001b[0midentifier\u001b[0m \u001b[1;33m=\u001b[0m \u001b[0msave_dir\u001b[0m\u001b[1;33m\u001b[0m\u001b[1;33m\u001b[0m\u001b[0m\n\u001b[0;32m     32\u001b[0m     \u001b[0mload_path\u001b[0m \u001b[1;33m=\u001b[0m \u001b[0msave_dir\u001b[0m\u001b[1;33m\u001b[0m\u001b[1;33m\u001b[0m\u001b[0m\n\u001b[1;32m---> 33\u001b[1;33m     \u001b[0msave_dir\u001b[0m \u001b[1;33m=\u001b[0m \u001b[0mget_resource\u001b[0m\u001b[1;33m(\u001b[0m\u001b[0msave_dir\u001b[0m\u001b[1;33m)\u001b[0m\u001b[1;33m\u001b[0m\u001b[1;33m\u001b[0m\u001b[0m\n\u001b[0m\u001b[0;32m     34\u001b[0m     \u001b[1;32mif\u001b[0m \u001b[0msave_dir\u001b[0m\u001b[1;33m.\u001b[0m\u001b[0mendswith\u001b[0m\u001b[1;33m(\u001b[0m\u001b[1;34m'.json'\u001b[0m\u001b[1;33m)\u001b[0m\u001b[1;33m:\u001b[0m\u001b[1;33m\u001b[0m\u001b[1;33m\u001b[0m\u001b[0m\n\u001b[0;32m     35\u001b[0m         \u001b[0mmeta_filename\u001b[0m \u001b[1;33m=\u001b[0m \u001b[0mos\u001b[0m\u001b[1;33m.\u001b[0m\u001b[0mpath\u001b[0m\u001b[1;33m.\u001b[0m\u001b[0mbasename\u001b[0m\u001b[1;33m(\u001b[0m\u001b[0msave_dir\u001b[0m\u001b[1;33m)\u001b[0m\u001b[1;33m\u001b[0m\u001b[1;33m\u001b[0m\u001b[0m\n",
      "\u001b[1;32mD:\\Software\\Anaconda3\\lib\\site-packages\\hanlp\\utils\\io_util.py\u001b[0m in \u001b[0;36mget_resource\u001b[1;34m(path, save_dir, extract, prefix, append_location, verbose)\u001b[0m\n\u001b[0;32m    353\u001b[0m             \u001b[0mrealpath\u001b[0m \u001b[1;33m+=\u001b[0m \u001b[0mcompressed\u001b[0m\u001b[1;33m\u001b[0m\u001b[1;33m\u001b[0m\u001b[0m\n\u001b[0;32m    354\u001b[0m         \u001b[1;32mif\u001b[0m \u001b[1;32mnot\u001b[0m \u001b[0mos\u001b[0m\u001b[1;33m.\u001b[0m\u001b[0mpath\u001b[0m\u001b[1;33m.\u001b[0m\u001b[0misfile\u001b[0m\u001b[1;33m(\u001b[0m\u001b[0mrealpath\u001b[0m\u001b[1;33m)\u001b[0m\u001b[1;33m:\u001b[0m\u001b[1;33m\u001b[0m\u001b[1;33m\u001b[0m\u001b[0m\n\u001b[1;32m--> 355\u001b[1;33m             \u001b[0mpath\u001b[0m \u001b[1;33m=\u001b[0m \u001b[0mdownload\u001b[0m\u001b[1;33m(\u001b[0m\u001b[0murl\u001b[0m\u001b[1;33m=\u001b[0m\u001b[0mpath\u001b[0m\u001b[1;33m,\u001b[0m \u001b[0msave_path\u001b[0m\u001b[1;33m=\u001b[0m\u001b[0mrealpath\u001b[0m\u001b[1;33m,\u001b[0m \u001b[0mverbose\u001b[0m\u001b[1;33m=\u001b[0m\u001b[0mverbose\u001b[0m\u001b[1;33m)\u001b[0m\u001b[1;33m\u001b[0m\u001b[1;33m\u001b[0m\u001b[0m\n\u001b[0m\u001b[0;32m    356\u001b[0m         \u001b[1;32melse\u001b[0m\u001b[1;33m:\u001b[0m\u001b[1;33m\u001b[0m\u001b[1;33m\u001b[0m\u001b[0m\n\u001b[0;32m    357\u001b[0m             \u001b[0mpath\u001b[0m \u001b[1;33m=\u001b[0m \u001b[0mrealpath\u001b[0m\u001b[1;33m\u001b[0m\u001b[1;33m\u001b[0m\u001b[0m\n",
      "\u001b[1;32mD:\\Software\\Anaconda3\\lib\\site-packages\\hanlp\\utils\\io_util.py\u001b[0m in \u001b[0;36mdownload\u001b[1;34m(url, save_path, save_dir, prefix, append_location, verbose)\u001b[0m\n\u001b[0;32m    198\u001b[0m             \u001b[1;32mif\u001b[0m \u001b[0mhasattr\u001b[0m\u001b[1;33m(\u001b[0m\u001b[0me\u001b[0m\u001b[1;33m,\u001b[0m \u001b[1;34m'msg'\u001b[0m\u001b[1;33m)\u001b[0m\u001b[1;33m:\u001b[0m\u001b[1;33m\u001b[0m\u001b[1;33m\u001b[0m\u001b[0m\n\u001b[0;32m    199\u001b[0m                 \u001b[0me\u001b[0m\u001b[1;33m.\u001b[0m\u001b[0mmsg\u001b[0m \u001b[1;33m+=\u001b[0m \u001b[1;34m'\\n'\u001b[0m \u001b[1;33m+\u001b[0m \u001b[0mremove_color_tag\u001b[0m\u001b[1;33m(\u001b[0m\u001b[0mmessage\u001b[0m\u001b[1;33m)\u001b[0m\u001b[1;33m\u001b[0m\u001b[1;33m\u001b[0m\u001b[0m\n\u001b[1;32m--> 200\u001b[1;33m             \u001b[1;32mraise\u001b[0m \u001b[0me\u001b[0m\u001b[1;33m\u001b[0m\u001b[1;33m\u001b[0m\u001b[0m\n\u001b[0m\u001b[0;32m    201\u001b[0m         \u001b[0mremove_file\u001b[0m\u001b[1;33m(\u001b[0m\u001b[0msave_path\u001b[0m\u001b[1;33m)\u001b[0m\u001b[1;33m\u001b[0m\u001b[1;33m\u001b[0m\u001b[0m\n\u001b[0;32m    202\u001b[0m         \u001b[0mos\u001b[0m\u001b[1;33m.\u001b[0m\u001b[0mrename\u001b[0m\u001b[1;33m(\u001b[0m\u001b[0mtmp_path\u001b[0m\u001b[1;33m,\u001b[0m \u001b[0msave_path\u001b[0m\u001b[1;33m)\u001b[0m\u001b[1;33m\u001b[0m\u001b[1;33m\u001b[0m\u001b[0m\n",
      "\u001b[1;32mD:\\Software\\Anaconda3\\lib\\site-packages\\hanlp\\utils\\io_util.py\u001b[0m in \u001b[0;36mdownload\u001b[1;34m(url, save_path, save_dir, prefix, append_location, verbose)\u001b[0m\n\u001b[0;32m    178\u001b[0m             \u001b[1;32mif\u001b[0m \u001b[0mverbose\u001b[0m\u001b[1;33m:\u001b[0m\u001b[1;33m\u001b[0m\u001b[1;33m\u001b[0m\u001b[0m\n\u001b[0;32m    179\u001b[0m                 \u001b[0mdownloader\u001b[0m\u001b[1;33m.\u001b[0m\u001b[0msubscribe\u001b[0m\u001b[1;33m(\u001b[0m\u001b[0mDownloadCallback\u001b[0m\u001b[1;33m(\u001b[0m\u001b[0mshow_header\u001b[0m\u001b[1;33m=\u001b[0m\u001b[1;32mFalse\u001b[0m\u001b[1;33m)\u001b[0m\u001b[1;33m)\u001b[0m\u001b[1;33m\u001b[0m\u001b[1;33m\u001b[0m\u001b[0m\n\u001b[1;32m--> 180\u001b[1;33m             \u001b[0mdownloader\u001b[0m\u001b[1;33m.\u001b[0m\u001b[0mstart_sync\u001b[0m\u001b[1;33m(\u001b[0m\u001b[1;33m)\u001b[0m\u001b[1;33m\u001b[0m\u001b[1;33m\u001b[0m\u001b[0m\n\u001b[0m\u001b[0;32m    181\u001b[0m         \u001b[1;32mexcept\u001b[0m \u001b[0mBaseException\u001b[0m \u001b[1;32mas\u001b[0m \u001b[0me\u001b[0m\u001b[1;33m:\u001b[0m\u001b[1;33m\u001b[0m\u001b[1;33m\u001b[0m\u001b[0m\n\u001b[0;32m    182\u001b[0m             \u001b[0mremove_file\u001b[0m\u001b[1;33m(\u001b[0m\u001b[0mtmp_path\u001b[0m\u001b[1;33m)\u001b[0m\u001b[1;33m\u001b[0m\u001b[1;33m\u001b[0m\u001b[0m\n",
      "\u001b[1;32mD:\\Software\\Anaconda3\\lib\\site-packages\\hanlp_downloader\\down.py\u001b[0m in \u001b[0;36mstart_sync\u001b[1;34m(self)\u001b[0m\n\u001b[0;32m    110\u001b[0m             \u001b[1;32mraise\u001b[0m \u001b[0mRuntimeError\u001b[0m\u001b[1;33m(\u001b[0m\u001b[1;34m'Download has already been started.'\u001b[0m\u001b[1;33m)\u001b[0m\u001b[1;33m\u001b[0m\u001b[1;33m\u001b[0m\u001b[0m\n\u001b[0;32m    111\u001b[0m \u001b[1;33m\u001b[0m\u001b[0m\n\u001b[1;32m--> 112\u001b[1;33m         \u001b[0mself\u001b[0m\u001b[1;33m.\u001b[0m\u001b[0mrun\u001b[0m\u001b[1;33m(\u001b[0m\u001b[1;33m)\u001b[0m\u001b[1;33m\u001b[0m\u001b[1;33m\u001b[0m\u001b[0m\n\u001b[0m\u001b[0;32m    113\u001b[0m \u001b[1;33m\u001b[0m\u001b[0m\n\u001b[0;32m    114\u001b[0m     \u001b[1;32mdef\u001b[0m \u001b[0mpause\u001b[0m\u001b[1;33m(\u001b[0m\u001b[0mself\u001b[0m\u001b[1;33m)\u001b[0m\u001b[1;33m:\u001b[0m\u001b[1;33m\u001b[0m\u001b[1;33m\u001b[0m\u001b[0m\n",
      "\u001b[1;32mD:\\Software\\Anaconda3\\lib\\site-packages\\hanlp_downloader\\down.py\u001b[0m in \u001b[0;36mrun\u001b[1;34m(self)\u001b[0m\n\u001b[0;32m    202\u001b[0m         \u001b[1;32mexcept\u001b[0m \u001b[0mKeyboardInterrupt\u001b[0m \u001b[1;32mas\u001b[0m \u001b[0me\u001b[0m\u001b[1;33m:\u001b[0m\u001b[1;33m\u001b[0m\u001b[1;33m\u001b[0m\u001b[0m\n\u001b[0;32m    203\u001b[0m             \u001b[0mself\u001b[0m\u001b[1;33m.\u001b[0m\u001b[0mstop\u001b[0m\u001b[1;33m(\u001b[0m\u001b[1;33m)\u001b[0m\u001b[1;33m\u001b[0m\u001b[1;33m\u001b[0m\u001b[0m\n\u001b[1;32m--> 204\u001b[1;33m             \u001b[1;32mraise\u001b[0m \u001b[0me\u001b[0m\u001b[1;33m\u001b[0m\u001b[1;33m\u001b[0m\u001b[0m\n\u001b[0m\u001b[0;32m    205\u001b[0m \u001b[1;33m\u001b[0m\u001b[0m\n\u001b[0;32m    206\u001b[0m         \u001b[1;32mfor\u001b[0m \u001b[0mchunk\u001b[0m \u001b[1;32min\u001b[0m \u001b[0mself\u001b[0m\u001b[1;33m.\u001b[0m\u001b[0m__chunks\u001b[0m\u001b[1;33m:\u001b[0m\u001b[1;33m\u001b[0m\u001b[1;33m\u001b[0m\u001b[0m\n",
      "\u001b[1;32mD:\\Software\\Anaconda3\\lib\\site-packages\\hanlp_downloader\\down.py\u001b[0m in \u001b[0;36mrun\u001b[1;34m(self)\u001b[0m\n\u001b[0;32m    199\u001b[0m             \u001b[1;32mwhile\u001b[0m \u001b[0many\u001b[0m\u001b[1;33m(\u001b[0m\u001b[0mchunk\u001b[0m\u001b[1;33m.\u001b[0m\u001b[0mthread\u001b[0m\u001b[1;33m.\u001b[0m\u001b[0mis_alive\u001b[0m\u001b[1;33m(\u001b[0m\u001b[1;33m)\u001b[0m \u001b[1;32mfor\u001b[0m \u001b[0mchunk\u001b[0m \u001b[1;32min\u001b[0m \u001b[0mself\u001b[0m\u001b[1;33m.\u001b[0m\u001b[0m__chunks\u001b[0m\u001b[1;33m)\u001b[0m\u001b[1;33m:\u001b[0m\u001b[1;33m\u001b[0m\u001b[1;33m\u001b[0m\u001b[0m\n\u001b[0;32m    200\u001b[0m                 \u001b[1;32mfor\u001b[0m \u001b[0mchunk\u001b[0m \u001b[1;32min\u001b[0m \u001b[0mself\u001b[0m\u001b[1;33m.\u001b[0m\u001b[0m__chunks\u001b[0m\u001b[1;33m:\u001b[0m\u001b[1;33m\u001b[0m\u001b[1;33m\u001b[0m\u001b[0m\n\u001b[1;32m--> 201\u001b[1;33m                     \u001b[0mchunk\u001b[0m\u001b[1;33m.\u001b[0m\u001b[0mthread\u001b[0m\u001b[1;33m.\u001b[0m\u001b[0mjoin\u001b[0m\u001b[1;33m(\u001b[0m\u001b[1;36m1\u001b[0m\u001b[1;33m)\u001b[0m\u001b[1;33m\u001b[0m\u001b[1;33m\u001b[0m\u001b[0m\n\u001b[0m\u001b[0;32m    202\u001b[0m         \u001b[1;32mexcept\u001b[0m \u001b[0mKeyboardInterrupt\u001b[0m \u001b[1;32mas\u001b[0m \u001b[0me\u001b[0m\u001b[1;33m:\u001b[0m\u001b[1;33m\u001b[0m\u001b[1;33m\u001b[0m\u001b[0m\n\u001b[0;32m    203\u001b[0m             \u001b[0mself\u001b[0m\u001b[1;33m.\u001b[0m\u001b[0mstop\u001b[0m\u001b[1;33m(\u001b[0m\u001b[1;33m)\u001b[0m\u001b[1;33m\u001b[0m\u001b[1;33m\u001b[0m\u001b[0m\n",
      "\u001b[1;32mD:\\Software\\Anaconda3\\lib\\threading.py\u001b[0m in \u001b[0;36mjoin\u001b[1;34m(self, timeout)\u001b[0m\n\u001b[0;32m   1013\u001b[0m             \u001b[1;31m# the behavior of a negative timeout isn't documented, but\u001b[0m\u001b[1;33m\u001b[0m\u001b[1;33m\u001b[0m\u001b[1;33m\u001b[0m\u001b[0m\n\u001b[0;32m   1014\u001b[0m             \u001b[1;31m# historically .join(timeout=x) for x<0 has acted as if timeout=0\u001b[0m\u001b[1;33m\u001b[0m\u001b[1;33m\u001b[0m\u001b[1;33m\u001b[0m\u001b[0m\n\u001b[1;32m-> 1015\u001b[1;33m             \u001b[0mself\u001b[0m\u001b[1;33m.\u001b[0m\u001b[0m_wait_for_tstate_lock\u001b[0m\u001b[1;33m(\u001b[0m\u001b[0mtimeout\u001b[0m\u001b[1;33m=\u001b[0m\u001b[0mmax\u001b[0m\u001b[1;33m(\u001b[0m\u001b[0mtimeout\u001b[0m\u001b[1;33m,\u001b[0m \u001b[1;36m0\u001b[0m\u001b[1;33m)\u001b[0m\u001b[1;33m)\u001b[0m\u001b[1;33m\u001b[0m\u001b[1;33m\u001b[0m\u001b[0m\n\u001b[0m\u001b[0;32m   1016\u001b[0m \u001b[1;33m\u001b[0m\u001b[0m\n\u001b[0;32m   1017\u001b[0m     \u001b[1;32mdef\u001b[0m \u001b[0m_wait_for_tstate_lock\u001b[0m\u001b[1;33m(\u001b[0m\u001b[0mself\u001b[0m\u001b[1;33m,\u001b[0m \u001b[0mblock\u001b[0m\u001b[1;33m=\u001b[0m\u001b[1;32mTrue\u001b[0m\u001b[1;33m,\u001b[0m \u001b[0mtimeout\u001b[0m\u001b[1;33m=\u001b[0m\u001b[1;33m-\u001b[0m\u001b[1;36m1\u001b[0m\u001b[1;33m)\u001b[0m\u001b[1;33m:\u001b[0m\u001b[1;33m\u001b[0m\u001b[1;33m\u001b[0m\u001b[0m\n",
      "\u001b[1;32mD:\\Software\\Anaconda3\\lib\\threading.py\u001b[0m in \u001b[0;36m_wait_for_tstate_lock\u001b[1;34m(self, block, timeout)\u001b[0m\n\u001b[0;32m   1025\u001b[0m         \u001b[1;32mif\u001b[0m \u001b[0mlock\u001b[0m \u001b[1;32mis\u001b[0m \u001b[1;32mNone\u001b[0m\u001b[1;33m:\u001b[0m  \u001b[1;31m# already determined that the C code is done\u001b[0m\u001b[1;33m\u001b[0m\u001b[1;33m\u001b[0m\u001b[0m\n\u001b[0;32m   1026\u001b[0m             \u001b[1;32massert\u001b[0m \u001b[0mself\u001b[0m\u001b[1;33m.\u001b[0m\u001b[0m_is_stopped\u001b[0m\u001b[1;33m\u001b[0m\u001b[1;33m\u001b[0m\u001b[0m\n\u001b[1;32m-> 1027\u001b[1;33m         \u001b[1;32melif\u001b[0m \u001b[0mlock\u001b[0m\u001b[1;33m.\u001b[0m\u001b[0macquire\u001b[0m\u001b[1;33m(\u001b[0m\u001b[0mblock\u001b[0m\u001b[1;33m,\u001b[0m \u001b[0mtimeout\u001b[0m\u001b[1;33m)\u001b[0m\u001b[1;33m:\u001b[0m\u001b[1;33m\u001b[0m\u001b[1;33m\u001b[0m\u001b[0m\n\u001b[0m\u001b[0;32m   1028\u001b[0m             \u001b[0mlock\u001b[0m\u001b[1;33m.\u001b[0m\u001b[0mrelease\u001b[0m\u001b[1;33m(\u001b[0m\u001b[1;33m)\u001b[0m\u001b[1;33m\u001b[0m\u001b[1;33m\u001b[0m\u001b[0m\n\u001b[0;32m   1029\u001b[0m             \u001b[0mself\u001b[0m\u001b[1;33m.\u001b[0m\u001b[0m_stop\u001b[0m\u001b[1;33m(\u001b[0m\u001b[1;33m)\u001b[0m\u001b[1;33m\u001b[0m\u001b[1;33m\u001b[0m\u001b[0m\n",
      "\u001b[1;31mKeyboardInterrupt\u001b[0m: "
     ]
    }
   ],
   "source": [
    "pos_tagger=hanlp.load(hanlp.pretrained.mtl.OPEN_TOK_POS_NER_SRL_DEP_SDP_CON_ELECTRA_BASE_ZH)"
   ]
  },
  {
   "cell_type": "code",
   "execution_count": 4,
   "metadata": {},
   "outputs": [],
   "source": [
    "#打开成语词典的语料集\n",
    "idioms=pd.read_csv('data/simplified_idioms.csv')\n",
    "idioms=idioms['idiom'].tolist()"
   ]
  },
  {
   "cell_type": "code",
   "execution_count": 5,
   "metadata": {},
   "outputs": [
    {
     "data": {
      "text/plain": [
       "['坚定不移',\n",
       " '随时随地',\n",
       " '全力以赴',\n",
       " '丰富多彩',\n",
       " '余波未平',\n",
       " '脱颖而出',\n",
       " '实事求是',\n",
       " '一如既往',\n",
       " '众所周知',\n",
       " '一年一度',\n",
       " '因地制宜',\n",
       " '千方百计',\n",
       " '息息相关',\n",
       " '层出不穷',\n",
       " '引人注目',\n",
       " '当务之急',\n",
       " '滥用职权',\n",
       " '深入人心',\n",
       " '见义勇为',\n",
       " '敲诈勒索',\n",
       " '名不虚传',\n",
       " '来之不易',\n",
       " '名副其实',\n",
       " '下落不明',\n",
       " '坚持不懈',\n",
       " '源源不断',\n",
       " '络绎不绝',\n",
       " '弄虚作假',\n",
       " '不可思议',\n",
       " '不正之风',\n",
       " '小心翼翼',\n",
       " '长治久安',\n",
       " '如火如荼',\n",
       " '不折不扣',\n",
       " '后顾之忧',\n",
       " '纸醉金迷',\n",
       " '力所能及',\n",
       " '供不应求',\n",
       " '一目了然',\n",
       " '显而易见',\n",
       " '持之以恒',\n",
       " '成千上万',\n",
       " '大街小巷',\n",
       " '可想而知',\n",
       " '安居乐业',\n",
       " '齐心协力',\n",
       " '得天独厚',\n",
       " '一见钟情',\n",
       " '艰苦奋斗',\n",
       " '全心全意',\n",
       " '独一无二',\n",
       " '不约而同',\n",
       " '紧锣密鼓',\n",
       " '五花八门',\n",
       " '一应俱全',\n",
       " '应运而生',\n",
       " '与众不同',\n",
       " '触目惊心',\n",
       " '屡见不鲜',\n",
       " '无独有偶',\n",
       " '行之有效',\n",
       " '不知不觉',\n",
       " '大势所趋',\n",
       " '千家万户',\n",
       " '心有余悸',\n",
       " '不得而知',\n",
       " '前所未有',\n",
       " '迫不及待',\n",
       " '雪上加霜',\n",
       " '迫在眉睫',\n",
       " '此起彼伏',\n",
       " '脚踏实地',\n",
       " '意想不到',\n",
       " '错综复杂',\n",
       " '无可厚非',\n",
       " '源远流长',\n",
       " '举一反三',\n",
       " '循序渐进',\n",
       " '不遗余力',\n",
       " '不言而喻',\n",
       " '讨价还价',\n",
       " '深恶痛绝',\n",
       " '三位一体',\n",
       " '截然不同',\n",
       " '记忆犹新',\n",
       " '喜闻乐见',\n",
       " '家喻户晓',\n",
       " '日新月异',\n",
       " '取而代之',\n",
       " '莫名其妙',\n",
       " '名列前茅',\n",
       " '排忧解难',\n",
       " '各式各样',\n",
       " '玩忽职守',\n",
       " '任重道远',\n",
       " '奋发有为',\n",
       " '举足轻重',\n",
       " '比比皆是',\n",
       " '卓有成效',\n",
       " '落地生根',\n",
       " '势在必行',\n",
       " '史无前例',\n",
       " '理所当然',\n",
       " '耳熟能详',\n",
       " '由来已久',\n",
       " '一模一样',\n",
       " '厉行节约',\n",
       " '恶性循环',\n",
       " '铤而走险',\n",
       " '举世瞩目',\n",
       " '再接再厉',\n",
       " '足不出户',\n",
       " '翻天覆地',\n",
       " '非同寻常',\n",
       " '挨家挨户',\n",
       " '不翼而飞',\n",
       " '参差不齐',\n",
       " '水涨船高',\n",
       " '沸沸扬扬',\n",
       " '先发制人',\n",
       " '轩然大波',\n",
       " '土生土长',\n",
       " '出人意料',\n",
       " '统筹兼顾',\n",
       " '明察暗访',\n",
       " '刻不容缓',\n",
       " '融为一体',\n",
       " '焕然一新',\n",
       " '以身作则',\n",
       " '潜移默化',\n",
       " '风口浪尖',\n",
       " '有条不紊',\n",
       " '归根结底',\n",
       " '发扬光大',\n",
       " '旗帜鲜明',\n",
       " '万无一失',\n",
       " '可见一斑',\n",
       " '一视同仁',\n",
       " '相辅相成',\n",
       " '淋漓尽致',\n",
       " '耳目一新',\n",
       " '不了了之',\n",
       " '热火朝天',\n",
       " '有目共睹',\n",
       " '久而久之',\n",
       " '视而不见',\n",
       " '自强不息',\n",
       " '以权谋私',\n",
       " '继往开来',\n",
       " '赞不绝口',\n",
       " '义不容辞',\n",
       " '未雨绸缪',\n",
       " '一举一动',\n",
       " '绳之以法',\n",
       " '尽如人意',\n",
       " '有所作为',\n",
       " '对症下药',\n",
       " '出谋划策',\n",
       " '四面八方',\n",
       " '首当其冲',\n",
       " '马不停蹄',\n",
       " '不以为然',\n",
       " '必由之路',\n",
       " '所作所为',\n",
       " '一蹴而就',\n",
       " '人满为患',\n",
       " '身体力行',\n",
       " '精益求精',\n",
       " '大吃一惊',\n",
       " '竭尽全力',\n",
       " '拭目以待',\n",
       " '无家可归',\n",
       " '哭笑不得',\n",
       " '铺张浪费',\n",
       " '不知所措',\n",
       " '座无虚席',\n",
       " '可乘之机',\n",
       " '琳琅满目',\n",
       " '卷土重来',\n",
       " '铺天盖地',\n",
       " '理直气壮',\n",
       " '面目全非',\n",
       " '忧心忡忡',\n",
       " '在所难免',\n",
       " '燃眉之急',\n",
       " '不绝于耳',\n",
       " '津津乐道',\n",
       " '立竿见影',\n",
       " '议论纷纷',\n",
       " '与日俱增',\n",
       " '衣食住行',\n",
       " '急功近利',\n",
       " '根深蒂固',\n",
       " '博大精深',\n",
       " '大有可为',\n",
       " '轰轰烈烈',\n",
       " '惊心动魄',\n",
       " '不亦乐乎',\n",
       " '何去何从',\n",
       " '独立自主',\n",
       " '相得益彰',\n",
       " '取信于民',\n",
       " '耐人寻味',\n",
       " '别开生面',\n",
       " '水泄不通',\n",
       " '接二连三',\n",
       " '无能为力',\n",
       " '难以为继',\n",
       " '陷入僵局',\n",
       " '感同身受',\n",
       " '不知去向',\n",
       " '匪夷所思',\n",
       " '背道而驰',\n",
       " '难以置信',\n",
       " '拳打脚踢',\n",
       " '一帆风顺',\n",
       " '掉以轻心',\n",
       " '畅所欲言',\n",
       " '习以为常',\n",
       " '漏洞百出',\n",
       " '出乎意料',\n",
       " '一脉相承',\n",
       " '当之无愧',\n",
       " '肆无忌惮',\n",
       " '寥寥无几',\n",
       " '顺藤摸瓜',\n",
       " '助人为乐',\n",
       " '欢聚一堂',\n",
       " '泪流满面',\n",
       " '接踵而至',\n",
       " '直言不讳',\n",
       " '义无反顾',\n",
       " '力不从心',\n",
       " '遍地开花',\n",
       " '慕名而来',\n",
       " '纷至沓来',\n",
       " '兴致勃勃',\n",
       " '家常便饭',\n",
       " '措手不及',\n",
       " '心急如焚',\n",
       " '一席之地',\n",
       " '栩栩如生',\n",
       " '眼花缭乱',\n",
       " '雪中送炭',\n",
       " '得不偿失',\n",
       " '安然无恙',\n",
       " '深入浅出',\n",
       " '自始至终',\n",
       " '捉襟见肘',\n",
       " '拒之门外',\n",
       " '望而却步',\n",
       " '默默无闻',\n",
       " '顺理成章',\n",
       " '难能可贵',\n",
       " '来龙去脉',\n",
       " '不谋而合',\n",
       " '如出一辙',\n",
       " '提心吊胆',\n",
       " '徇私舞弊',\n",
       " '一无所知',\n",
       " '锲而不舍',\n",
       " '别有用心',\n",
       " '大打出手',\n",
       " '同舟共济',\n",
       " '雨后春笋',\n",
       " '兢兢业业',\n",
       " '泣不成声',\n",
       " '无人问津',\n",
       " '应有尽有',\n",
       " '引以为戒',\n",
       " '异军突起',\n",
       " '波澜壮阔',\n",
       " '无可奈何',\n",
       " '归根到底',\n",
       " '品学兼优',\n",
       " '司空见惯',\n",
       " '推波助澜',\n",
       " '微乎其微',\n",
       " '相提并论',\n",
       " '束手无策',\n",
       " '信以为真',\n",
       " '死灰复燃',\n",
       " '苦不堪言',\n",
       " '防患于未然',\n",
       " '争分夺秒',\n",
       " '集思广益',\n",
       " '蛮不讲理',\n",
       " '自力更生',\n",
       " '有的放矢',\n",
       " '严阵以待',\n",
       " '建功立业',\n",
       " '人山人海',\n",
       " '溃不成军',\n",
       " '国计民生',\n",
       " '年事已高',\n",
       " '绿水青山',\n",
       " '半壁江山',\n",
       " '求同存异',\n",
       " '蛛丝马迹',\n",
       " '鱼龙混杂',\n",
       " '扑朔迷离',\n",
       " '熙熙攘攘',\n",
       " '一技之长',\n",
       " '大江南北',\n",
       " '屈指可数',\n",
       " '交相辉映',\n",
       " '公之于众',\n",
       " '一拍即合',\n",
       " '絮絮叨叨',\n",
       " '一丝不苟',\n",
       " '相依为命',\n",
       " '微不足道',\n",
       " '大有作为',\n",
       " '良莠不齐',\n",
       " '令人瞩目',\n",
       " '迎刃而解',\n",
       " '从天而降',\n",
       " '不合时宜',\n",
       " '现身说法',\n",
       " '新陈代谢',\n",
       " '声势浩大',\n",
       " '高高在上',\n",
       " '合情合理',\n",
       " '量力而行',\n",
       " '不切实际',\n",
       " '针锋相对',\n",
       " '责无旁贷',\n",
       " '高瞻远瞩',\n",
       " '千千万万',\n",
       " '明目张胆',\n",
       " '连锁反应',\n",
       " '适得其反',\n",
       " '摇身一变',\n",
       " '跃跃欲试',\n",
       " '聚精会神',\n",
       " '承前启后',\n",
       " '杯水车薪',\n",
       " '一网打尽',\n",
       " '开花结果',\n",
       " '慷慨解囊',\n",
       " '素不相识',\n",
       " '长此以往',\n",
       " '无可争辩',\n",
       " '格格不入',\n",
       " '蔚然成风',\n",
       " '生机勃勃',\n",
       " '吃苦耐劳',\n",
       " '昏迷不醒',\n",
       " '金字招牌',\n",
       " '大相径庭',\n",
       " '堂而皇之',\n",
       " '如数家珍',\n",
       " '争先恐后',\n",
       " '浓墨重彩',\n",
       " '大刀阔斧',\n",
       " '惊慌失措',\n",
       " '所剩无几',\n",
       " '高官厚禄',\n",
       " '一心一意',\n",
       " '井然有序',\n",
       " '一波三折',\n",
       " '形迹可疑',\n",
       " '炙手可热',\n",
       " '身临其境',\n",
       " '二话不说',\n",
       " '流连忘返',\n",
       " '热泪盈眶',\n",
       " '销声匿迹',\n",
       " '打击报复',\n",
       " '尽心尽力',\n",
       " '一以贯之',\n",
       " '恍然大悟',\n",
       " '置之不理',\n",
       " '轻而易举',\n",
       " '人来人往',\n",
       " '青山绿水',\n",
       " '齐头并进',\n",
       " '一筹莫展',\n",
       " '百花齐放',\n",
       " '各执一词',\n",
       " '志同道合',\n",
       " '绞尽脑汁',\n",
       " '首屈一指',\n",
       " '水到渠成',\n",
       " '物美价廉',\n",
       " '众说纷纭',\n",
       " '各自为政',\n",
       " '语重心长',\n",
       " '德才兼备',\n",
       " '乐此不疲',\n",
       " '方兴未艾',\n",
       " '五颜六色',\n",
       " '无动于衷',\n",
       " '锦上添花',\n",
       " '荒淫无度',\n",
       " '推陈出新',\n",
       " '畅通无阻',\n",
       " '独树一帜',\n",
       " '省吃俭用',\n",
       " '无济于事',\n",
       " '情不自禁',\n",
       " '不足为奇',\n",
       " '忍无可忍',\n",
       " '埋头苦干',\n",
       " '郁郁葱葱',\n",
       " '事半功倍',\n",
       " '不省人事',\n",
       " '分门别类',\n",
       " '别出心裁',\n",
       " '明明白白',\n",
       " '热情洋溢',\n",
       " '大张旗鼓',\n",
       " '防不胜防',\n",
       " '惊魂未定',\n",
       " '蒙混过关',\n",
       " '错落有致',\n",
       " '一点一滴',\n",
       " '入不敷出',\n",
       " '我行我素',\n",
       " '深思熟虑',\n",
       " '趋之若鹜',\n",
       " '无微不至',\n",
       " '溢于言表',\n",
       " '车水马龙',\n",
       " '同心同德',\n",
       " '无所适从',\n",
       " '变本加厉',\n",
       " '壮士断腕',\n",
       " '雄心勃勃',\n",
       " '崭露头角',\n",
       " '以点带面',\n",
       " '学以致用',\n",
       " '心中有数',\n",
       " '五湖四海',\n",
       " '审时度势',\n",
       " '不择手段',\n",
       " '大起大落',\n",
       " '不厌其烦',\n",
       " '一针见血',\n",
       " '四通八达',\n",
       " '不可开交',\n",
       " '春暖花开',\n",
       " '天经地义',\n",
       " '悬而未决',\n",
       " '一言不发',\n",
       " '蜂拥而至',\n",
       " '扬长而去',\n",
       " '水落石出',\n",
       " '大开眼界',\n",
       " '载歌载舞',\n",
       " '子虚乌有',\n",
       " '了如指掌',\n",
       " '历历在目',\n",
       " '徇私枉法',\n",
       " '风云变幻',\n",
       " '公正廉洁',\n",
       " '茁壮成长',\n",
       " '千丝万缕',\n",
       " '一步一个脚印',\n",
       " '奋不顾身',\n",
       " '轻描淡写',\n",
       " '不解之缘',\n",
       " '有意无意',\n",
       " '顾名思义',\n",
       " '有声有色',\n",
       " '流离失所',\n",
       " '诸如此类',\n",
       " '一清二楚',\n",
       " '众志成城',\n",
       " '救死扶伤',\n",
       " '梦寐以求',\n",
       " '逍遥法外',\n",
       " '按捺不住',\n",
       " '信誓旦旦',\n",
       " '不计其数',\n",
       " '缺一不可',\n",
       " '脱胎换骨',\n",
       " '真心实意',\n",
       " '对簿公堂',\n",
       " '不辱使命',\n",
       " '狂风暴雨',\n",
       " '日复一日',\n",
       " '白发苍苍',\n",
       " '山清水秀',\n",
       " '随心所欲',\n",
       " '浩浩荡荡',\n",
       " '不堪设想',\n",
       " '叹为观止',\n",
       " '不由自主',\n",
       " '天下第一',\n",
       " '如愿以偿',\n",
       " '取长补短',\n",
       " '所见所闻',\n",
       " '近在咫尺',\n",
       " '一言一行',\n",
       " '惨不忍睹',\n",
       " '一无所获',\n",
       " '既得利益',\n",
       " '呼之欲出',\n",
       " '一厢情愿',\n",
       " '黄金时代',\n",
       " '无与伦比',\n",
       " '无中生有',\n",
       " '轰动一时',\n",
       " '街头巷尾',\n",
       " '掷地有声',\n",
       " '戛然而止',\n",
       " '念念不忘',\n",
       " '偷工减料',\n",
       " '津津有味',\n",
       " '改头换面',\n",
       " '据为己有',\n",
       " '大同小异',\n",
       " '刮目相看',\n",
       " '令人发指',\n",
       " '目瞪口呆',\n",
       " '三三两两',\n",
       " '雷厉风行',\n",
       " '风雨无阻',\n",
       " '江郎才尽',\n",
       " '美轮美奂',\n",
       " '货真价实',\n",
       " '三令五申',\n",
       " '和睦相处',\n",
       " '感慨万千',\n",
       " '拾金不昧',\n",
       " '因人而异',\n",
       " '一纸空文',\n",
       " '双管齐下',\n",
       " '脱口而出',\n",
       " '曾几何时',\n",
       " '逃之夭夭',\n",
       " '心甘情愿',\n",
       " '一朝一夕',\n",
       " '倾家荡产',\n",
       " '有利可图',\n",
       " '更上一层楼',\n",
       " '证据确凿',\n",
       " '万众一心',\n",
       " '古色古香',\n",
       " '刻骨铭心',\n",
       " '东窗事发',\n",
       " '开门见山',\n",
       " '蒸蒸日上',\n",
       " '艰苦卓绝',\n",
       " '承上启下',\n",
       " '振奋人心',\n",
       " '风起云涌',\n",
       " '乱七八糟',\n",
       " '浑身解数',\n",
       " '一意孤行',\n",
       " '大有人在',\n",
       " '年复一年',\n",
       " '水土不服',\n",
       " '绝无仅有',\n",
       " '奄奄一息',\n",
       " '生生不息',\n",
       " '从头到尾',\n",
       " '迫不得已',\n",
       " '公平合理',\n",
       " '独善其身',\n",
       " '恰到好处',\n",
       " '一触即发',\n",
       " '说三道四',\n",
       " '不胜枚举',\n",
       " '各抒己见',\n",
       " '意味深长',\n",
       " '聪明才智',\n",
       " '生死存亡',\n",
       " '蠢蠢欲动',\n",
       " '摇摇欲坠',\n",
       " '世外桃源',\n",
       " '滔滔不绝',\n",
       " '欣欣向荣',\n",
       " '添砖加瓦',\n",
       " '相差无几',\n",
       " '来势汹汹',\n",
       " '有朝一日',\n",
       " '疑难杂症',\n",
       " '指日可待',\n",
       " '每况愈下',\n",
       " '精打细算',\n",
       " '真知灼见',\n",
       " '遥遥无期',\n",
       " '代代相传',\n",
       " '勇往直前',\n",
       " '好景不长',\n",
       " '另辟蹊径',\n",
       " '朝气蓬勃',\n",
       " '见怪不怪',\n",
       " '一劳永逸',\n",
       " '目不暇接',\n",
       " '热气腾腾',\n",
       " '脍炙人口',\n",
       " '牵一发而动全身',\n",
       " '无所事事',\n",
       " '甚嚣尘上',\n",
       " '时不我待',\n",
       " '打成一片',\n",
       " '一成不变',\n",
       " '怀恨在心',\n",
       " '总而言之',\n",
       " '支支吾吾',\n",
       " '艰苦创业',\n",
       " '不务正业',\n",
       " '身无分文',\n",
       " '别具一格',\n",
       " '治病救人',\n",
       " '岌岌可危',\n",
       " '丰功伟绩',\n",
       " '他山之石',\n",
       " '避重就轻',\n",
       " '按部就班',\n",
       " '急转直下',\n",
       " '一举两得',\n",
       " '兴高采烈',\n",
       " '同心协力',\n",
       " '侃侃而谈',\n",
       " '恼羞成怒',\n",
       " '天壤之别',\n",
       " '咄咄逼人',\n",
       " '千篇一律',\n",
       " '寸步难行',\n",
       " '嘘寒问暖',\n",
       " '不失时机',\n",
       " '直截了当',\n",
       " '白手起家',\n",
       " '人去楼空',\n",
       " '置若罔闻',\n",
       " '瞠目结舌',\n",
       " '长途跋涉',\n",
       " '有说有笑',\n",
       " '严于律己',\n",
       " '群策群力',\n",
       " '前车之鉴',\n",
       " '一拥而上',\n",
       " '违法乱纪',\n",
       " '大政方针',\n",
       " '痛定思痛',\n",
       " '始终如一',\n",
       " '数不胜数',\n",
       " '啼笑皆非',\n",
       " '不闻不问',\n",
       " '不相上下',\n",
       " '自给自足',\n",
       " '有生之年',\n",
       " '民以食为天',\n",
       " '打草惊蛇',\n",
       " '守望相助',\n",
       " '鼓舞人心',\n",
       " '三五成群',\n",
       " '铿锵有力',\n",
       " '接踵而来',\n",
       " '赏心悦目',\n",
       " '夜以继日',\n",
       " '起早贪黑',\n",
       " '爱不释手',\n",
       " '手足无措',\n",
       " '一分为二',\n",
       " '不可多得',\n",
       " '喜出望外',\n",
       " '何乐而不为',\n",
       " '口口相传',\n",
       " '只争朝夕',\n",
       " '气喘吁吁',\n",
       " '猝不及防',\n",
       " '不甘示弱',\n",
       " '亡羊补牢',\n",
       " '意气风发',\n",
       " '摩拳擦掌',\n",
       " '喜怒哀乐',\n",
       " '千差万别',\n",
       " '酸甜苦辣',\n",
       " '惟妙惟肖',\n",
       " '自相矛盾',\n",
       " '中流砥柱',\n",
       " '真相大白',\n",
       " '早出晚归',\n",
       " '繁荣昌盛',\n",
       " '异口同声',\n",
       " '喜气洋洋',\n",
       " '大是大非',\n",
       " '自食其力',\n",
       " '言传身教',\n",
       " '浴血奋战',\n",
       " '大惊小怪',\n",
       " '转危为安',\n",
       " '见缝插针',\n",
       " '平易近人',\n",
       " '古今中外',\n",
       " '怨声载道',\n",
       " '人声鼎沸',\n",
       " '千里迢迢',\n",
       " '融会贯通',\n",
       " '整装待发',\n",
       " '得心应手',\n",
       " '守土有责',\n",
       " '破口大骂',\n",
       " '不可磨灭',\n",
       " '永无止境',\n",
       " '犹豫不决',\n",
       " '一去不复返',\n",
       " '火眼金睛',\n",
       " '袖手旁观',\n",
       " '苦口婆心',\n",
       " '游刃有余',\n",
       " '始终不渝',\n",
       " '发家致富',\n",
       " '耿耿于怀',\n",
       " '油然而生',\n",
       " '害群之马',\n",
       " '权宜之计',\n",
       " '背井离乡',\n",
       " '支离破碎',\n",
       " '皆大欢喜',\n",
       " '大名鼎鼎',\n",
       " '合二为一',\n",
       " '风吹草动',\n",
       " '依依不舍',\n",
       " '秋高气爽',\n",
       " '挺身而出',\n",
       " '掩人耳目',\n",
       " '姗姗来迟',\n",
       " '实至名归',\n",
       " '事与愿违',\n",
       " '翩翩起舞',\n",
       " '名目繁多',\n",
       " '凤毛麟角',\n",
       " '忍气吞声',\n",
       " '耳濡目染',\n",
       " '天伦之乐',\n",
       " '一气呵成',\n",
       " '千载难逢',\n",
       " '满目疮痍',\n",
       " '堆积如山',\n",
       " '一无所有',\n",
       " '追根溯源',\n",
       " '精神抖擞',\n",
       " '人心惶惶',\n",
       " '朝夕相处',\n",
       " '当仁不让',\n",
       " '不依不饶',\n",
       " '设身处地',\n",
       " '名胜古迹',\n",
       " '焦头烂额',\n",
       " '无缘无故',\n",
       " '日积月累',\n",
       " '旷日持久',\n",
       " '不胫而走',\n",
       " '忍俊不禁',\n",
       " '成群结队',\n",
       " '接连不断',\n",
       " '无稽之谈',\n",
       " '债台高筑',\n",
       " '因材施教',\n",
       " '居安思危',\n",
       " '手忙脚乱',\n",
       " '轻重缓急',\n",
       " '应接不暇',\n",
       " '矢志不渝',\n",
       " '触手可及',\n",
       " '发人深省',\n",
       " '破门而入',\n",
       " '异曲同工',\n",
       " '自言自语',\n",
       " '左邻右舍',\n",
       " '乐在其中',\n",
       " '以身试法',\n",
       " '养家糊口',\n",
       " '众矢之的',\n",
       " '心平气和',\n",
       " '若隐若现',\n",
       " '繁荣富强',\n",
       " '哗众取宠',\n",
       " '纵横交错',\n",
       " '空穴来风',\n",
       " '叫苦不迭',\n",
       " '因势利导',\n",
       " '德高望重',\n",
       " '舆论哗然',\n",
       " '有恃无恐',\n",
       " '人命关天',\n",
       " '气势磅礴',\n",
       " '昙花一现',\n",
       " '息事宁人',\n",
       " '日日夜夜',\n",
       " '荡然无存',\n",
       " '欢欣鼓舞',\n",
       " '惊天动地',\n",
       " '艰难险阻',\n",
       " '险象环生',\n",
       " '数一数二',\n",
       " '切身体会',\n",
       " '以假乱真',\n",
       " '风风雨雨',\n",
       " '天寒地冻',\n",
       " '负债累累',\n",
       " '任劳任怨',\n",
       " '走投无路',\n",
       " '令行禁止',\n",
       " '重蹈覆辙',\n",
       " '无时无刻',\n",
       " '成家立业',\n",
       " '炎黄子孙',\n",
       " '剑拔弩张',\n",
       " '将心比心',\n",
       " '大手大脚',\n",
       " '一览无余',\n",
       " '为所欲为',\n",
       " '名正言顺',\n",
       " '纸上谈兵',\n",
       " '川流不息',\n",
       " '夜深人静',\n",
       " '美不胜收',\n",
       " '善始善终',\n",
       " '枝繁叶茂',\n",
       " '意料之外',\n",
       " '斩钉截铁',\n",
       " '风云人物',\n",
       " '大有裨益',\n",
       " '防微杜渐',\n",
       " '无影无踪',\n",
       " '举手之劳',\n",
       " '中西合璧',\n",
       " '走马上任',\n",
       " '拍手称快',\n",
       " '小心谨慎',\n",
       " '海纳百川',\n",
       " '来历不明',\n",
       " '汗流浃背',\n",
       " '七嘴八舌',\n",
       " '本末倒置',\n",
       " '不顾一切',\n",
       " '混淆视听',\n",
       " '热血沸腾',\n",
       " '左右为难',\n",
       " '风平浪静',\n",
       " '如履薄冰',\n",
       " '先天不足',\n",
       " '招摇撞骗',\n",
       " '解疑释惑',\n",
       " '不速之客',\n",
       " '心服口服',\n",
       " '东拼西凑',\n",
       " '一落千丈',\n",
       " '原原本本',\n",
       " '火上浇油',\n",
       " '就事论事',\n",
       " '没完没了',\n",
       " '劳民伤财',\n",
       " '危言耸听',\n",
       " '天马行空',\n",
       " '煞费苦心',\n",
       " '自欺欺人',\n",
       " '讳莫如深',\n",
       " '断章取义',\n",
       " '五彩缤纷',\n",
       " '进退两难',\n",
       " '改过自新',\n",
       " '一口咬定',\n",
       " '急于求成',\n",
       " '严惩不贷',\n",
       " '疲惫不堪',\n",
       " '百折不挠',\n",
       " '一家老小',\n",
       " '大显身手',\n",
       " '头破血流',\n",
       " '浑水摸鱼',\n",
       " '不容置疑',\n",
       " '孜孜不倦',\n",
       " '长久之计',\n",
       " '闻名遐迩',\n",
       " '千辛万苦',\n",
       " '指手画脚',\n",
       " '赫赫有名',\n",
       " '灭顶之灾',\n",
       " '如影随形',\n",
       " '风调雨顺',\n",
       " '无所作为',\n",
       " '茶余饭后',\n",
       " '痛哭流涕',\n",
       " '高屋建瓴',\n",
       " '走马观花',\n",
       " '步调一致',\n",
       " '蒙在鼓里',\n",
       " '屡教不改',\n",
       " '歪风邪气',\n",
       " '失之交臂',\n",
       " '漫天要价',\n",
       " '平心而论',\n",
       " '不在话下',\n",
       " '担惊受怕',\n",
       " '约定俗成',\n",
       " '廉洁奉公',\n",
       " '果不其然',\n",
       " '立于不败之地',\n",
       " '晴天霹雳',\n",
       " '正本清源',\n",
       " '不负众望',\n",
       " '瞬息万变',\n",
       " '不可逾越',\n",
       " '靠天吃饭',\n",
       " '语焉不详',\n",
       " '悲痛欲绝',\n",
       " '前赴后继',\n",
       " '翻山越岭',\n",
       " '临危受命',\n",
       " '忐忑不安',\n",
       " '不可同日而语',\n",
       " '不拘一格',\n",
       " '有机可乘',\n",
       " '漫山遍野',\n",
       " '赞叹不已',\n",
       " '而立之年',\n",
       " '不假思索',\n",
       " '不屈不挠',\n",
       " '潸然泪下',\n",
       " '礼尚往来',\n",
       " '条条框框',\n",
       " '灵机一动',\n",
       " '引人入胜',\n",
       " '若无其事',\n",
       " '熟视无睹',\n",
       " '骇人听闻',\n",
       " '趋利避害',\n",
       " '供过于求',\n",
       " '交口称赞',\n",
       " '精力充沛',\n",
       " '冠冕堂皇',\n",
       " '分道扬镳',\n",
       " '荷枪实弹',\n",
       " '老生常谈',\n",
       " '彻头彻尾',\n",
       " '活灵活现',\n",
       " '安身立命',\n",
       " '风雨同舟',\n",
       " '游手好闲',\n",
       " '心灰意冷',\n",
       " '耸人听闻',\n",
       " '网开一面',\n",
       " '精兵强将',\n",
       " '电闪雷鸣',\n",
       " '星罗棋布',\n",
       " '谈何容易',\n",
       " '三缄其口',\n",
       " '众目睽睽',\n",
       " '混为一谈',\n",
       " '不能自拔',\n",
       " '多才多艺',\n",
       " '不欢而散',\n",
       " '井井有条',\n",
       " '鳞次栉比',\n",
       " '自以为是',\n",
       " '腾空而起',\n",
       " '不动声色',\n",
       " '稳扎稳打',\n",
       " '似曾相识',\n",
       " '空空如也',\n",
       " '危在旦夕',\n",
       " '开诚布公',\n",
       " '可歌可泣',\n",
       " '口诛笔伐',\n",
       " '釜底抽薪',\n",
       " '口口声声',\n",
       " '举世闻名',\n",
       " '光明正大',\n",
       " '一门心思',\n",
       " '不一而足',\n",
       " '文山会海',\n",
       " '德艺双馨',\n",
       " '顾全大局',\n",
       " '能上能下',\n",
       " '胆战心惊',\n",
       " '坚韧不拔',\n",
       " '起死回生',\n",
       " '全神贯注',\n",
       " '死里逃生',\n",
       " '一马当先',\n",
       " '平安无事',\n",
       " '厚积薄发',\n",
       " '无理取闹',\n",
       " '当机立断',\n",
       " '八方支援',\n",
       " '深情厚谊',\n",
       " '名存实亡',\n",
       " '如释重负',\n",
       " '雷打不动',\n",
       " '一望无际',\n",
       " '与世隔绝',\n",
       " '门可罗雀',\n",
       " '大摇大摆',\n",
       " '将信将疑',\n",
       " '勤勤恳恳',\n",
       " '心旷神怡',\n",
       " '柴米油盐',\n",
       " '心照不宣',\n",
       " '半途而废',\n",
       " '半信半疑',\n",
       " '无计可施',\n",
       " '轻装上阵',\n",
       " ...]"
      ]
     },
     "execution_count": 5,
     "metadata": {},
     "output_type": "execute_result"
    }
   ],
   "source": [
    "idioms"
   ]
  },
  {
   "cell_type": "code",
   "execution_count": 6,
   "metadata": {},
   "outputs": [
    {
     "data": {
      "text/plain": [
       "{'tok': ['因地制宜'],\n",
       " 'pos': ['VV'],\n",
       " 'ner': [],\n",
       " 'srl': [],\n",
       " 'dep': [(0, 'root')],\n",
       " 'sdp': [[(0, 'Root')]],\n",
       " 'con': ['TOP', [['VV', ['因地制宜']]]]}"
      ]
     },
     "execution_count": 6,
     "metadata": {},
     "output_type": "execute_result"
    }
   ],
   "source": [
    "pos_tagger(idioms[10])"
   ]
  },
  {
   "cell_type": "code",
   "execution_count": 7,
   "metadata": {},
   "outputs": [
    {
     "name": "stderr",
     "output_type": "stream",
     "text": [
      "100%|██████████████████████████████████████████████████████████████████████████████| 7558/7558 [06:51<00:00, 18.37it/s]\n"
     ]
    }
   ],
   "source": [
    "pos=[]\n",
    "for item in tqdm(idioms):\n",
    "    pos.append(pos_tagger(item)['pos'])"
   ]
  },
  {
   "cell_type": "code",
   "execution_count": 8,
   "metadata": {
    "scrolled": true
   },
   "outputs": [
    {
     "name": "stdout",
     "output_type": "stream",
     "text": [
      "坚定不移 ['VA']\n",
      "随时随地 ['AD', 'AD']\n",
      "全力以赴 ['VV']\n",
      "丰富多彩 ['VA']\n",
      "余波未平 ['NN', 'AD', 'VV']\n",
      "脱颖而出 ['VV']\n",
      "实事求是 ['VV']\n",
      "一如既往 ['VV']\n",
      "众所周知 ['VV']\n",
      "一年一度 ['CD', 'M', 'CD', 'M']\n",
      "因地制宜 ['VV']\n",
      "千方百计 ['VV']\n",
      "息息相关 ['VV']\n",
      "层出不穷 ['VV']\n",
      "引人注目 ['VV']\n",
      "当务之急 ['NN']\n",
      "滥用职权 ['VV', 'NN']\n",
      "深入人心 ['VV', 'NN']\n",
      "见义勇为 ['VV']\n",
      "敲诈勒索 ['VV']\n",
      "名不虚传 ['VV']\n",
      "来之不易 ['VV']\n",
      "名副其实 ['VV']\n",
      "下落不明 ['VV']\n",
      "坚持不懈 ['VV']\n",
      "源源不断 ['VV']\n",
      "络绎不绝 ['VV']\n",
      "弄虚作假 ['VV']\n",
      "不可思议 ['VV']\n",
      "不正之风 ['NN']\n"
     ]
    }
   ],
   "source": [
    "idioms[:30],pos[:30]\n",
    "for idiom,positem in zip(idioms[:30],pos[:30]):\n",
    "    print(idiom,positem)"
   ]
  },
  {
   "cell_type": "code",
   "execution_count": 9,
   "metadata": {},
   "outputs": [
    {
     "data": {
      "text/plain": [
       "{'tok': [['因'], ['地'], ['制'], ['宜']],\n",
       " 'pos': [['P'], ['NN'], ['VV'], ['VA']],\n",
       " 'ner': [[], [], [], []],\n",
       " 'srl': [[], [], [], []],\n",
       " 'dep': [[(0, 'root')], [(0, 'root')], [(0, 'root')], [(0, 'root')]],\n",
       " 'sdp': [[[(0, 'Root')]], [[(0, 'Root')]], [[(0, 'Root')]], [[(0, 'Root')]]],\n",
       " 'con': [['TOP', [['P', ['因']]]],\n",
       "  ['TOP', [['FRAG', [['NN', ['地']]]]]],\n",
       "  ['TOP', [['IP', [['VP', [['VV', ['制']]]]]]]],\n",
       "  ['TOP', [['FRAG', [['VA', ['宜']]]]]]]}"
      ]
     },
     "execution_count": 9,
     "metadata": {},
     "output_type": "execute_result"
    }
   ],
   "source": [
    "pos_tagger(['因','地','制','宜'])"
   ]
  },
  {
   "cell_type": "code",
   "execution_count": 10,
   "metadata": {
    "scrolled": true
   },
   "outputs": [
    {
     "data": {
      "text/html": [
       "<div>\n",
       "<style scoped>\n",
       "    .dataframe tbody tr th:only-of-type {\n",
       "        vertical-align: middle;\n",
       "    }\n",
       "\n",
       "    .dataframe tbody tr th {\n",
       "        vertical-align: top;\n",
       "    }\n",
       "\n",
       "    .dataframe thead th {\n",
       "        text-align: right;\n",
       "    }\n",
       "</style>\n",
       "<table border=\"1\" class=\"dataframe\">\n",
       "  <thead>\n",
       "    <tr style=\"text-align: right;\">\n",
       "      <th></th>\n",
       "      <th>Tag</th>\n",
       "      <th>Chinese Description</th>\n",
       "    </tr>\n",
       "  </thead>\n",
       "  <tbody>\n",
       "    <tr>\n",
       "      <th>0</th>\n",
       "      <td>AD</td>\n",
       "      <td>副词</td>\n",
       "    </tr>\n",
       "    <tr>\n",
       "      <th>1</th>\n",
       "      <td>AS</td>\n",
       "      <td>助词</td>\n",
       "    </tr>\n",
       "    <tr>\n",
       "      <th>2</th>\n",
       "      <td>BA</td>\n",
       "      <td>当“把”、“将”出现在结构“NP0 + BA + NP1+VP”时的词性</td>\n",
       "    </tr>\n",
       "    <tr>\n",
       "      <th>3</th>\n",
       "      <td>CC</td>\n",
       "      <td>并列连词</td>\n",
       "    </tr>\n",
       "    <tr>\n",
       "      <th>4</th>\n",
       "      <td>CD</td>\n",
       "      <td>数词或表达数量的词</td>\n",
       "    </tr>\n",
       "    <tr>\n",
       "      <th>5</th>\n",
       "      <td>CS</td>\n",
       "      <td>从属连词</td>\n",
       "    </tr>\n",
       "    <tr>\n",
       "      <th>6</th>\n",
       "      <td>DEC</td>\n",
       "      <td>当“的”或“之”作补语标记或名词化标记时的词性，其结构为：S/VP DEC {NP}，如，喜...</td>\n",
       "    </tr>\n",
       "    <tr>\n",
       "      <th>7</th>\n",
       "      <td>DEG</td>\n",
       "      <td>当“的”或“之”作所有格时的词性，其结构为:NP/PP/JJ/DT DEG {NP}， 如，...</td>\n",
       "    </tr>\n",
       "    <tr>\n",
       "      <th>8</th>\n",
       "      <td>DER</td>\n",
       "      <td>当“得”出现在结构“V-得-R”时的词性，如，他跑得很快</td>\n",
       "    </tr>\n",
       "    <tr>\n",
       "      <th>9</th>\n",
       "      <td>DEV</td>\n",
       "      <td>当“地”出现在结构“X-地-VP”时的词性，如，高兴地说</td>\n",
       "    </tr>\n",
       "    <tr>\n",
       "      <th>10</th>\n",
       "      <td>DT</td>\n",
       "      <td>代冠词，通常用来修饰名词</td>\n",
       "    </tr>\n",
       "    <tr>\n",
       "      <th>11</th>\n",
       "      <td>ETC</td>\n",
       "      <td>“等”、“等等”的词性</td>\n",
       "    </tr>\n",
       "    <tr>\n",
       "      <th>12</th>\n",
       "      <td>FW</td>\n",
       "      <td>外来词</td>\n",
       "    </tr>\n",
       "    <tr>\n",
       "      <th>13</th>\n",
       "      <td>IJ</td>\n",
       "      <td>感叹词，通常出现在句子首部</td>\n",
       "    </tr>\n",
       "    <tr>\n",
       "      <th>14</th>\n",
       "      <td>JJ</td>\n",
       "      <td>形容词</td>\n",
       "    </tr>\n",
       "    <tr>\n",
       "      <th>15</th>\n",
       "      <td>LB</td>\n",
       "      <td>当“被”、“叫”、“给”出现在结构“NP0 + LB + NP1+ VP”结构时 的词性，如...</td>\n",
       "    </tr>\n",
       "    <tr>\n",
       "      <th>16</th>\n",
       "      <td>LC</td>\n",
       "      <td>方位词</td>\n",
       "    </tr>\n",
       "    <tr>\n",
       "      <th>17</th>\n",
       "      <td>M</td>\n",
       "      <td>量词</td>\n",
       "    </tr>\n",
       "    <tr>\n",
       "      <th>18</th>\n",
       "      <td>MSP</td>\n",
       "      <td>其他虚词，包括“所”、“以”、“来”和“而”等出现在VP前的词</td>\n",
       "    </tr>\n",
       "    <tr>\n",
       "      <th>19</th>\n",
       "      <td>NN</td>\n",
       "      <td>除专有名词和时间名词外的所有名词</td>\n",
       "    </tr>\n",
       "    <tr>\n",
       "      <th>20</th>\n",
       "      <td>NOI</td>\n",
       "      <td>汉字顺序颠倒产生的噪声</td>\n",
       "    </tr>\n",
       "    <tr>\n",
       "      <th>21</th>\n",
       "      <td>NR</td>\n",
       "      <td>专有名词，通常表示地名、人名、机构名等</td>\n",
       "    </tr>\n",
       "    <tr>\n",
       "      <th>22</th>\n",
       "      <td>NT</td>\n",
       "      <td>表示时间概念的名词</td>\n",
       "    </tr>\n",
       "    <tr>\n",
       "      <th>23</th>\n",
       "      <td>OD</td>\n",
       "      <td>序列词</td>\n",
       "    </tr>\n",
       "    <tr>\n",
       "      <th>24</th>\n",
       "      <td>ON</td>\n",
       "      <td>象声词</td>\n",
       "    </tr>\n",
       "    <tr>\n",
       "      <th>25</th>\n",
       "      <td>P</td>\n",
       "      <td>介词</td>\n",
       "    </tr>\n",
       "    <tr>\n",
       "      <th>26</th>\n",
       "      <td>PN</td>\n",
       "      <td>代词，通常用来指代名词</td>\n",
       "    </tr>\n",
       "    <tr>\n",
       "      <th>27</th>\n",
       "      <td>PU</td>\n",
       "      <td>标点符号</td>\n",
       "    </tr>\n",
       "    <tr>\n",
       "      <th>28</th>\n",
       "      <td>SB</td>\n",
       "      <td>当“被”、“给”出现在NP0 +SB+ VP结果时的词性，如，他被训了 一顿</td>\n",
       "    </tr>\n",
       "    <tr>\n",
       "      <th>29</th>\n",
       "      <td>SP</td>\n",
       "      <td>经常出现在句尾的词</td>\n",
       "    </tr>\n",
       "    <tr>\n",
       "      <th>30</th>\n",
       "      <td>URL</td>\n",
       "      <td>网址</td>\n",
       "    </tr>\n",
       "    <tr>\n",
       "      <th>31</th>\n",
       "      <td>VA</td>\n",
       "      <td>可以接在“很”后面的形容词谓语</td>\n",
       "    </tr>\n",
       "    <tr>\n",
       "      <th>32</th>\n",
       "      <td>VC</td>\n",
       "      <td>系动词，表示“是”或“非”概念的动词</td>\n",
       "    </tr>\n",
       "    <tr>\n",
       "      <th>33</th>\n",
       "      <td>VE</td>\n",
       "      <td>表示“有”或“无”概念的动词</td>\n",
       "    </tr>\n",
       "    <tr>\n",
       "      <th>34</th>\n",
       "      <td>VV</td>\n",
       "      <td>其他普通动词，包括情态词、控制动词、动作动词、心理动词等等</td>\n",
       "    </tr>\n",
       "  </tbody>\n",
       "</table>\n",
       "</div>"
      ],
      "text/plain": [
       "    Tag                                Chinese Description\n",
       "0    AD                                                 副词\n",
       "1    AS                                                 助词\n",
       "2    BA               当“把”、“将”出现在结构“NP0 + BA + NP1+VP”时的词性\n",
       "3    CC                                               并列连词\n",
       "4    CD                                          数词或表达数量的词\n",
       "5    CS                                               从属连词\n",
       "6   DEC  当“的”或“之”作补语标记或名词化标记时的词性，其结构为：S/VP DEC {NP}，如，喜...\n",
       "7   DEG  当“的”或“之”作所有格时的词性，其结构为:NP/PP/JJ/DT DEG {NP}， 如，...\n",
       "8   DER                       当“得”出现在结构“V-得-R”时的词性，如，他跑得很快\n",
       "9   DEV                       当“地”出现在结构“X-地-VP”时的词性，如，高兴地说\n",
       "10   DT                                       代冠词，通常用来修饰名词\n",
       "11  ETC                                        “等”、“等等”的词性\n",
       "12   FW                                                外来词\n",
       "13   IJ                                      感叹词，通常出现在句子首部\n",
       "14   JJ                                                形容词\n",
       "15   LB  当“被”、“叫”、“给”出现在结构“NP0 + LB + NP1+ VP”结构时 的词性，如...\n",
       "16   LC                                                方位词\n",
       "17    M                                                 量词\n",
       "18  MSP                    其他虚词，包括“所”、“以”、“来”和“而”等出现在VP前的词\n",
       "19   NN                                   除专有名词和时间名词外的所有名词\n",
       "20  NOI                                        汉字顺序颠倒产生的噪声\n",
       "21   NR                                专有名词，通常表示地名、人名、机构名等\n",
       "22   NT                                          表示时间概念的名词\n",
       "23   OD                                                序列词\n",
       "24   ON                                                象声词\n",
       "25    P                                                 介词\n",
       "26   PN                                        代词，通常用来指代名词\n",
       "27   PU                                               标点符号\n",
       "28   SB             当“被”、“给”出现在NP0 +SB+ VP结果时的词性，如，他被训了 一顿\n",
       "29   SP                                          经常出现在句尾的词\n",
       "30  URL                                                 网址\n",
       "31   VA                                    可以接在“很”后面的形容词谓语\n",
       "32   VC                                 系动词，表示“是”或“非”概念的动词\n",
       "33   VE                                     表示“有”或“无”概念的动词\n",
       "34   VV                      其他普通动词，包括情态词、控制动词、动作动词、心理动词等等"
      ]
     },
     "execution_count": 10,
     "metadata": {},
     "output_type": "execute_result"
    }
   ],
   "source": [
    "ctb=pd.read_excel('data/ctb规范.xlsx',usecols=['Tag','Chinese Description'])\n",
    "ctb"
   ]
  },
  {
   "cell_type": "code",
   "execution_count": 11,
   "metadata": {},
   "outputs": [
    {
     "name": "stderr",
     "output_type": "stream",
     "text": [
      "100%|██████████████████████████████████████████████████████████████████████████████| 7558/7558 [07:24<00:00, 17.02it/s]\n"
     ]
    }
   ],
   "source": [
    "#统计每一个字的词性\n",
    "statistic_tag={}\n",
    "for item in ctb['Tag'].tolist():\n",
    "    statistic_tag[item]=0\n",
    "\n",
    "for idiom in tqdm(idioms):\n",
    "    characters=[]\n",
    "    for item in idiom:\n",
    "        characters.append(item)\n",
    "    pos=pos_tagger(characters)['pos']\n",
    "    for item in pos:\n",
    "        statistic_tag[item[0]]+=1"
   ]
  },
  {
   "cell_type": "code",
   "execution_count": 12,
   "metadata": {
    "scrolled": true
   },
   "outputs": [
    {
     "data": {
      "text/plain": [
       "{'AD': 2146,\n",
       " 'AS': 0,\n",
       " 'BA': 4,\n",
       " 'CC': 0,\n",
       " 'CD': 1366,\n",
       " 'CS': 56,\n",
       " 'DEC': 0,\n",
       " 'DEG': 353,\n",
       " 'DER': 0,\n",
       " 'DEV': 0,\n",
       " 'DT': 54,\n",
       " 'ETC': 0,\n",
       " 'FW': 0,\n",
       " 'IJ': 287,\n",
       " 'JJ': 108,\n",
       " 'LB': 2,\n",
       " 'LC': 0,\n",
       " 'M': 61,\n",
       " 'MSP': 0,\n",
       " 'NN': 8537,\n",
       " 'NOI': 0,\n",
       " 'NR': 1980,\n",
       " 'NT': 156,\n",
       " 'OD': 2,\n",
       " 'ON': 0,\n",
       " 'P': 915,\n",
       " 'PN': 192,\n",
       " 'PU': 133,\n",
       " 'SB': 0,\n",
       " 'SP': 1,\n",
       " 'URL': 0,\n",
       " 'VA': 3297,\n",
       " 'VC': 54,\n",
       " 'VE': 602,\n",
       " 'VV': 10609}"
      ]
     },
     "execution_count": 12,
     "metadata": {},
     "output_type": "execute_result"
    }
   ],
   "source": [
    "statistic_tag"
   ]
  },
  {
   "cell_type": "code",
   "execution_count": 42,
   "metadata": {
    "scrolled": true
   },
   "outputs": [
    {
     "data": {
      "text/html": [
       "<div>\n",
       "<style scoped>\n",
       "    .dataframe tbody tr th:only-of-type {\n",
       "        vertical-align: middle;\n",
       "    }\n",
       "\n",
       "    .dataframe tbody tr th {\n",
       "        vertical-align: top;\n",
       "    }\n",
       "\n",
       "    .dataframe thead th {\n",
       "        text-align: right;\n",
       "    }\n",
       "</style>\n",
       "<table border=\"1\" class=\"dataframe\">\n",
       "  <thead>\n",
       "    <tr style=\"text-align: right;\">\n",
       "      <th></th>\n",
       "      <th>POS</th>\n",
       "      <th>Num</th>\n",
       "    </tr>\n",
       "  </thead>\n",
       "  <tbody>\n",
       "    <tr>\n",
       "      <th>0</th>\n",
       "      <td>AD</td>\n",
       "      <td>2146</td>\n",
       "    </tr>\n",
       "    <tr>\n",
       "      <th>1</th>\n",
       "      <td>BA</td>\n",
       "      <td>4</td>\n",
       "    </tr>\n",
       "    <tr>\n",
       "      <th>2</th>\n",
       "      <td>CD</td>\n",
       "      <td>1366</td>\n",
       "    </tr>\n",
       "    <tr>\n",
       "      <th>3</th>\n",
       "      <td>CS</td>\n",
       "      <td>56</td>\n",
       "    </tr>\n",
       "    <tr>\n",
       "      <th>4</th>\n",
       "      <td>DEG</td>\n",
       "      <td>353</td>\n",
       "    </tr>\n",
       "    <tr>\n",
       "      <th>5</th>\n",
       "      <td>DT</td>\n",
       "      <td>54</td>\n",
       "    </tr>\n",
       "    <tr>\n",
       "      <th>6</th>\n",
       "      <td>IJ</td>\n",
       "      <td>287</td>\n",
       "    </tr>\n",
       "    <tr>\n",
       "      <th>7</th>\n",
       "      <td>JJ</td>\n",
       "      <td>108</td>\n",
       "    </tr>\n",
       "    <tr>\n",
       "      <th>8</th>\n",
       "      <td>LB</td>\n",
       "      <td>2</td>\n",
       "    </tr>\n",
       "    <tr>\n",
       "      <th>9</th>\n",
       "      <td>M</td>\n",
       "      <td>61</td>\n",
       "    </tr>\n",
       "    <tr>\n",
       "      <th>10</th>\n",
       "      <td>NN</td>\n",
       "      <td>8537</td>\n",
       "    </tr>\n",
       "    <tr>\n",
       "      <th>11</th>\n",
       "      <td>NR</td>\n",
       "      <td>1980</td>\n",
       "    </tr>\n",
       "    <tr>\n",
       "      <th>12</th>\n",
       "      <td>NT</td>\n",
       "      <td>156</td>\n",
       "    </tr>\n",
       "    <tr>\n",
       "      <th>13</th>\n",
       "      <td>OD</td>\n",
       "      <td>2</td>\n",
       "    </tr>\n",
       "    <tr>\n",
       "      <th>14</th>\n",
       "      <td>P</td>\n",
       "      <td>915</td>\n",
       "    </tr>\n",
       "    <tr>\n",
       "      <th>15</th>\n",
       "      <td>PN</td>\n",
       "      <td>192</td>\n",
       "    </tr>\n",
       "    <tr>\n",
       "      <th>16</th>\n",
       "      <td>PU</td>\n",
       "      <td>133</td>\n",
       "    </tr>\n",
       "    <tr>\n",
       "      <th>17</th>\n",
       "      <td>SP</td>\n",
       "      <td>1</td>\n",
       "    </tr>\n",
       "    <tr>\n",
       "      <th>18</th>\n",
       "      <td>VA</td>\n",
       "      <td>3297</td>\n",
       "    </tr>\n",
       "    <tr>\n",
       "      <th>19</th>\n",
       "      <td>VC</td>\n",
       "      <td>54</td>\n",
       "    </tr>\n",
       "    <tr>\n",
       "      <th>20</th>\n",
       "      <td>VE</td>\n",
       "      <td>602</td>\n",
       "    </tr>\n",
       "    <tr>\n",
       "      <th>21</th>\n",
       "      <td>VV</td>\n",
       "      <td>10609</td>\n",
       "    </tr>\n",
       "  </tbody>\n",
       "</table>\n",
       "</div>"
      ],
      "text/plain": [
       "    POS    Num\n",
       "0    AD   2146\n",
       "1    BA      4\n",
       "2    CD   1366\n",
       "3    CS     56\n",
       "4   DEG    353\n",
       "5    DT     54\n",
       "6    IJ    287\n",
       "7    JJ    108\n",
       "8    LB      2\n",
       "9     M     61\n",
       "10   NN   8537\n",
       "11   NR   1980\n",
       "12   NT    156\n",
       "13   OD      2\n",
       "14    P    915\n",
       "15   PN    192\n",
       "16   PU    133\n",
       "17   SP      1\n",
       "18   VA   3297\n",
       "19   VC     54\n",
       "20   VE    602\n",
       "21   VV  10609"
      ]
     },
     "execution_count": 42,
     "metadata": {},
     "output_type": "execute_result"
    }
   ],
   "source": [
    "key=[]\n",
    "value=[]\n",
    "for k,v in statistic_tag.items():\n",
    "    if v==0:\n",
    "        continue\n",
    "    key.append(k)\n",
    "    value.append(v)\n",
    "statis_data=pd.DataFrame(data={'POS':key,'Num':value})\n",
    "statis_data"
   ]
  },
  {
   "cell_type": "code",
   "execution_count": 44,
   "metadata": {
    "scrolled": true
   },
   "outputs": [
    {
     "data": {
      "application/vnd.plotly.v1+json": {
       "config": {
        "plotlyServerURL": "https://plot.ly"
       },
       "data": [
        {
         "alignmentgroup": "True",
         "hovertemplate": "POS=%{x}<br>Num=%{y}<extra></extra>",
         "legendgroup": "",
         "marker": {
          "color": "#636efa"
         },
         "name": "",
         "offsetgroup": "",
         "orientation": "v",
         "showlegend": false,
         "textposition": "auto",
         "type": "bar",
         "x": [
          "AD",
          "BA",
          "CD",
          "CS",
          "DEG",
          "DT",
          "IJ",
          "JJ",
          "LB",
          "M",
          "NN",
          "NR",
          "NT",
          "OD",
          "P",
          "PN",
          "PU",
          "SP",
          "VA",
          "VC",
          "VE",
          "VV"
         ],
         "xaxis": "x",
         "y": [
          2146,
          4,
          1366,
          56,
          353,
          54,
          287,
          108,
          2,
          61,
          8537,
          1980,
          156,
          2,
          915,
          192,
          133,
          1,
          3297,
          54,
          602,
          10609
         ],
         "yaxis": "y"
        }
       ],
       "layout": {
        "barmode": "group",
        "legend": {
         "tracegroupgap": 0
        },
        "margin": {
         "t": 60
        },
        "template": {
         "data": {
          "bar": [
           {
            "error_x": {
             "color": "#2a3f5f"
            },
            "error_y": {
             "color": "#2a3f5f"
            },
            "marker": {
             "line": {
              "color": "#E5ECF6",
              "width": 0.5
             }
            },
            "type": "bar"
           }
          ],
          "barpolar": [
           {
            "marker": {
             "line": {
              "color": "#E5ECF6",
              "width": 0.5
             }
            },
            "type": "barpolar"
           }
          ],
          "carpet": [
           {
            "aaxis": {
             "endlinecolor": "#2a3f5f",
             "gridcolor": "white",
             "linecolor": "white",
             "minorgridcolor": "white",
             "startlinecolor": "#2a3f5f"
            },
            "baxis": {
             "endlinecolor": "#2a3f5f",
             "gridcolor": "white",
             "linecolor": "white",
             "minorgridcolor": "white",
             "startlinecolor": "#2a3f5f"
            },
            "type": "carpet"
           }
          ],
          "choropleth": [
           {
            "colorbar": {
             "outlinewidth": 0,
             "ticks": ""
            },
            "type": "choropleth"
           }
          ],
          "contour": [
           {
            "colorbar": {
             "outlinewidth": 0,
             "ticks": ""
            },
            "colorscale": [
             [
              0,
              "#0d0887"
             ],
             [
              0.1111111111111111,
              "#46039f"
             ],
             [
              0.2222222222222222,
              "#7201a8"
             ],
             [
              0.3333333333333333,
              "#9c179e"
             ],
             [
              0.4444444444444444,
              "#bd3786"
             ],
             [
              0.5555555555555556,
              "#d8576b"
             ],
             [
              0.6666666666666666,
              "#ed7953"
             ],
             [
              0.7777777777777778,
              "#fb9f3a"
             ],
             [
              0.8888888888888888,
              "#fdca26"
             ],
             [
              1,
              "#f0f921"
             ]
            ],
            "type": "contour"
           }
          ],
          "contourcarpet": [
           {
            "colorbar": {
             "outlinewidth": 0,
             "ticks": ""
            },
            "type": "contourcarpet"
           }
          ],
          "heatmap": [
           {
            "colorbar": {
             "outlinewidth": 0,
             "ticks": ""
            },
            "colorscale": [
             [
              0,
              "#0d0887"
             ],
             [
              0.1111111111111111,
              "#46039f"
             ],
             [
              0.2222222222222222,
              "#7201a8"
             ],
             [
              0.3333333333333333,
              "#9c179e"
             ],
             [
              0.4444444444444444,
              "#bd3786"
             ],
             [
              0.5555555555555556,
              "#d8576b"
             ],
             [
              0.6666666666666666,
              "#ed7953"
             ],
             [
              0.7777777777777778,
              "#fb9f3a"
             ],
             [
              0.8888888888888888,
              "#fdca26"
             ],
             [
              1,
              "#f0f921"
             ]
            ],
            "type": "heatmap"
           }
          ],
          "heatmapgl": [
           {
            "colorbar": {
             "outlinewidth": 0,
             "ticks": ""
            },
            "colorscale": [
             [
              0,
              "#0d0887"
             ],
             [
              0.1111111111111111,
              "#46039f"
             ],
             [
              0.2222222222222222,
              "#7201a8"
             ],
             [
              0.3333333333333333,
              "#9c179e"
             ],
             [
              0.4444444444444444,
              "#bd3786"
             ],
             [
              0.5555555555555556,
              "#d8576b"
             ],
             [
              0.6666666666666666,
              "#ed7953"
             ],
             [
              0.7777777777777778,
              "#fb9f3a"
             ],
             [
              0.8888888888888888,
              "#fdca26"
             ],
             [
              1,
              "#f0f921"
             ]
            ],
            "type": "heatmapgl"
           }
          ],
          "histogram": [
           {
            "marker": {
             "colorbar": {
              "outlinewidth": 0,
              "ticks": ""
             }
            },
            "type": "histogram"
           }
          ],
          "histogram2d": [
           {
            "colorbar": {
             "outlinewidth": 0,
             "ticks": ""
            },
            "colorscale": [
             [
              0,
              "#0d0887"
             ],
             [
              0.1111111111111111,
              "#46039f"
             ],
             [
              0.2222222222222222,
              "#7201a8"
             ],
             [
              0.3333333333333333,
              "#9c179e"
             ],
             [
              0.4444444444444444,
              "#bd3786"
             ],
             [
              0.5555555555555556,
              "#d8576b"
             ],
             [
              0.6666666666666666,
              "#ed7953"
             ],
             [
              0.7777777777777778,
              "#fb9f3a"
             ],
             [
              0.8888888888888888,
              "#fdca26"
             ],
             [
              1,
              "#f0f921"
             ]
            ],
            "type": "histogram2d"
           }
          ],
          "histogram2dcontour": [
           {
            "colorbar": {
             "outlinewidth": 0,
             "ticks": ""
            },
            "colorscale": [
             [
              0,
              "#0d0887"
             ],
             [
              0.1111111111111111,
              "#46039f"
             ],
             [
              0.2222222222222222,
              "#7201a8"
             ],
             [
              0.3333333333333333,
              "#9c179e"
             ],
             [
              0.4444444444444444,
              "#bd3786"
             ],
             [
              0.5555555555555556,
              "#d8576b"
             ],
             [
              0.6666666666666666,
              "#ed7953"
             ],
             [
              0.7777777777777778,
              "#fb9f3a"
             ],
             [
              0.8888888888888888,
              "#fdca26"
             ],
             [
              1,
              "#f0f921"
             ]
            ],
            "type": "histogram2dcontour"
           }
          ],
          "mesh3d": [
           {
            "colorbar": {
             "outlinewidth": 0,
             "ticks": ""
            },
            "type": "mesh3d"
           }
          ],
          "parcoords": [
           {
            "line": {
             "colorbar": {
              "outlinewidth": 0,
              "ticks": ""
             }
            },
            "type": "parcoords"
           }
          ],
          "pie": [
           {
            "automargin": true,
            "type": "pie"
           }
          ],
          "scatter": [
           {
            "marker": {
             "colorbar": {
              "outlinewidth": 0,
              "ticks": ""
             }
            },
            "type": "scatter"
           }
          ],
          "scatter3d": [
           {
            "line": {
             "colorbar": {
              "outlinewidth": 0,
              "ticks": ""
             }
            },
            "marker": {
             "colorbar": {
              "outlinewidth": 0,
              "ticks": ""
             }
            },
            "type": "scatter3d"
           }
          ],
          "scattercarpet": [
           {
            "marker": {
             "colorbar": {
              "outlinewidth": 0,
              "ticks": ""
             }
            },
            "type": "scattercarpet"
           }
          ],
          "scattergeo": [
           {
            "marker": {
             "colorbar": {
              "outlinewidth": 0,
              "ticks": ""
             }
            },
            "type": "scattergeo"
           }
          ],
          "scattergl": [
           {
            "marker": {
             "colorbar": {
              "outlinewidth": 0,
              "ticks": ""
             }
            },
            "type": "scattergl"
           }
          ],
          "scattermapbox": [
           {
            "marker": {
             "colorbar": {
              "outlinewidth": 0,
              "ticks": ""
             }
            },
            "type": "scattermapbox"
           }
          ],
          "scatterpolar": [
           {
            "marker": {
             "colorbar": {
              "outlinewidth": 0,
              "ticks": ""
             }
            },
            "type": "scatterpolar"
           }
          ],
          "scatterpolargl": [
           {
            "marker": {
             "colorbar": {
              "outlinewidth": 0,
              "ticks": ""
             }
            },
            "type": "scatterpolargl"
           }
          ],
          "scatterternary": [
           {
            "marker": {
             "colorbar": {
              "outlinewidth": 0,
              "ticks": ""
             }
            },
            "type": "scatterternary"
           }
          ],
          "surface": [
           {
            "colorbar": {
             "outlinewidth": 0,
             "ticks": ""
            },
            "colorscale": [
             [
              0,
              "#0d0887"
             ],
             [
              0.1111111111111111,
              "#46039f"
             ],
             [
              0.2222222222222222,
              "#7201a8"
             ],
             [
              0.3333333333333333,
              "#9c179e"
             ],
             [
              0.4444444444444444,
              "#bd3786"
             ],
             [
              0.5555555555555556,
              "#d8576b"
             ],
             [
              0.6666666666666666,
              "#ed7953"
             ],
             [
              0.7777777777777778,
              "#fb9f3a"
             ],
             [
              0.8888888888888888,
              "#fdca26"
             ],
             [
              1,
              "#f0f921"
             ]
            ],
            "type": "surface"
           }
          ],
          "table": [
           {
            "cells": {
             "fill": {
              "color": "#EBF0F8"
             },
             "line": {
              "color": "white"
             }
            },
            "header": {
             "fill": {
              "color": "#C8D4E3"
             },
             "line": {
              "color": "white"
             }
            },
            "type": "table"
           }
          ]
         },
         "layout": {
          "annotationdefaults": {
           "arrowcolor": "#2a3f5f",
           "arrowhead": 0,
           "arrowwidth": 1
          },
          "coloraxis": {
           "colorbar": {
            "outlinewidth": 0,
            "ticks": ""
           }
          },
          "colorscale": {
           "diverging": [
            [
             0,
             "#8e0152"
            ],
            [
             0.1,
             "#c51b7d"
            ],
            [
             0.2,
             "#de77ae"
            ],
            [
             0.3,
             "#f1b6da"
            ],
            [
             0.4,
             "#fde0ef"
            ],
            [
             0.5,
             "#f7f7f7"
            ],
            [
             0.6,
             "#e6f5d0"
            ],
            [
             0.7,
             "#b8e186"
            ],
            [
             0.8,
             "#7fbc41"
            ],
            [
             0.9,
             "#4d9221"
            ],
            [
             1,
             "#276419"
            ]
           ],
           "sequential": [
            [
             0,
             "#0d0887"
            ],
            [
             0.1111111111111111,
             "#46039f"
            ],
            [
             0.2222222222222222,
             "#7201a8"
            ],
            [
             0.3333333333333333,
             "#9c179e"
            ],
            [
             0.4444444444444444,
             "#bd3786"
            ],
            [
             0.5555555555555556,
             "#d8576b"
            ],
            [
             0.6666666666666666,
             "#ed7953"
            ],
            [
             0.7777777777777778,
             "#fb9f3a"
            ],
            [
             0.8888888888888888,
             "#fdca26"
            ],
            [
             1,
             "#f0f921"
            ]
           ],
           "sequentialminus": [
            [
             0,
             "#0d0887"
            ],
            [
             0.1111111111111111,
             "#46039f"
            ],
            [
             0.2222222222222222,
             "#7201a8"
            ],
            [
             0.3333333333333333,
             "#9c179e"
            ],
            [
             0.4444444444444444,
             "#bd3786"
            ],
            [
             0.5555555555555556,
             "#d8576b"
            ],
            [
             0.6666666666666666,
             "#ed7953"
            ],
            [
             0.7777777777777778,
             "#fb9f3a"
            ],
            [
             0.8888888888888888,
             "#fdca26"
            ],
            [
             1,
             "#f0f921"
            ]
           ]
          },
          "colorway": [
           "#636efa",
           "#EF553B",
           "#00cc96",
           "#ab63fa",
           "#FFA15A",
           "#19d3f3",
           "#FF6692",
           "#B6E880",
           "#FF97FF",
           "#FECB52"
          ],
          "font": {
           "color": "#2a3f5f"
          },
          "geo": {
           "bgcolor": "white",
           "lakecolor": "white",
           "landcolor": "#E5ECF6",
           "showlakes": true,
           "showland": true,
           "subunitcolor": "white"
          },
          "hoverlabel": {
           "align": "left"
          },
          "hovermode": "closest",
          "mapbox": {
           "style": "light"
          },
          "paper_bgcolor": "white",
          "plot_bgcolor": "#E5ECF6",
          "polar": {
           "angularaxis": {
            "gridcolor": "white",
            "linecolor": "white",
            "ticks": ""
           },
           "bgcolor": "#E5ECF6",
           "radialaxis": {
            "gridcolor": "white",
            "linecolor": "white",
            "ticks": ""
           }
          },
          "scene": {
           "xaxis": {
            "backgroundcolor": "#E5ECF6",
            "gridcolor": "white",
            "gridwidth": 2,
            "linecolor": "white",
            "showbackground": true,
            "ticks": "",
            "zerolinecolor": "white"
           },
           "yaxis": {
            "backgroundcolor": "#E5ECF6",
            "gridcolor": "white",
            "gridwidth": 2,
            "linecolor": "white",
            "showbackground": true,
            "ticks": "",
            "zerolinecolor": "white"
           },
           "zaxis": {
            "backgroundcolor": "#E5ECF6",
            "gridcolor": "white",
            "gridwidth": 2,
            "linecolor": "white",
            "showbackground": true,
            "ticks": "",
            "zerolinecolor": "white"
           }
          },
          "shapedefaults": {
           "line": {
            "color": "#2a3f5f"
           }
          },
          "ternary": {
           "aaxis": {
            "gridcolor": "white",
            "linecolor": "white",
            "ticks": ""
           },
           "baxis": {
            "gridcolor": "white",
            "linecolor": "white",
            "ticks": ""
           },
           "bgcolor": "#E5ECF6",
           "caxis": {
            "gridcolor": "white",
            "linecolor": "white",
            "ticks": ""
           }
          },
          "title": {
           "x": 0.05
          },
          "xaxis": {
           "automargin": true,
           "gridcolor": "white",
           "linecolor": "white",
           "ticks": "",
           "title": {
            "standoff": 15
           },
           "zerolinecolor": "white",
           "zerolinewidth": 2
          },
          "yaxis": {
           "automargin": true,
           "gridcolor": "white",
           "linecolor": "white",
           "ticks": "",
           "title": {
            "standoff": 15
           },
           "zerolinecolor": "white",
           "zerolinewidth": 2
          }
         }
        },
        "xaxis": {
         "anchor": "y",
         "domain": [
          0,
          1
         ],
         "title": {
          "text": "POS"
         }
        },
        "yaxis": {
         "anchor": "x",
         "domain": [
          0,
          1
         ],
         "title": {
          "text": "Num"
         }
        }
       }
      },
      "text/html": [
       "<div>\n",
       "        \n",
       "        \n",
       "            <div id=\"2ea5c239-9c87-41c8-a15e-5af453dba0ac\" class=\"plotly-graph-div\" style=\"height:525px; width:100%;\"></div>\n",
       "            <script type=\"text/javascript\">\n",
       "                require([\"plotly\"], function(Plotly) {\n",
       "                    window.PLOTLYENV=window.PLOTLYENV || {};\n",
       "                    \n",
       "                if (document.getElementById(\"2ea5c239-9c87-41c8-a15e-5af453dba0ac\")) {\n",
       "                    Plotly.newPlot(\n",
       "                        '2ea5c239-9c87-41c8-a15e-5af453dba0ac',\n",
       "                        [{\"alignmentgroup\": \"True\", \"hovertemplate\": \"POS=%{x}<br>Num=%{y}<extra></extra>\", \"legendgroup\": \"\", \"marker\": {\"color\": \"#636efa\"}, \"name\": \"\", \"offsetgroup\": \"\", \"orientation\": \"v\", \"showlegend\": false, \"textposition\": \"auto\", \"type\": \"bar\", \"x\": [\"AD\", \"BA\", \"CD\", \"CS\", \"DEG\", \"DT\", \"IJ\", \"JJ\", \"LB\", \"M\", \"NN\", \"NR\", \"NT\", \"OD\", \"P\", \"PN\", \"PU\", \"SP\", \"VA\", \"VC\", \"VE\", \"VV\"], \"xaxis\": \"x\", \"y\": [2146, 4, 1366, 56, 353, 54, 287, 108, 2, 61, 8537, 1980, 156, 2, 915, 192, 133, 1, 3297, 54, 602, 10609], \"yaxis\": \"y\"}],\n",
       "                        {\"barmode\": \"group\", \"legend\": {\"tracegroupgap\": 0}, \"margin\": {\"t\": 60}, \"template\": {\"data\": {\"bar\": [{\"error_x\": {\"color\": \"#2a3f5f\"}, \"error_y\": {\"color\": \"#2a3f5f\"}, \"marker\": {\"line\": {\"color\": \"#E5ECF6\", \"width\": 0.5}}, \"type\": \"bar\"}], \"barpolar\": [{\"marker\": {\"line\": {\"color\": \"#E5ECF6\", \"width\": 0.5}}, \"type\": \"barpolar\"}], \"carpet\": [{\"aaxis\": {\"endlinecolor\": \"#2a3f5f\", \"gridcolor\": \"white\", \"linecolor\": \"white\", \"minorgridcolor\": \"white\", \"startlinecolor\": \"#2a3f5f\"}, \"baxis\": {\"endlinecolor\": \"#2a3f5f\", \"gridcolor\": \"white\", \"linecolor\": \"white\", \"minorgridcolor\": \"white\", \"startlinecolor\": \"#2a3f5f\"}, \"type\": \"carpet\"}], \"choropleth\": [{\"colorbar\": {\"outlinewidth\": 0, \"ticks\": \"\"}, \"type\": \"choropleth\"}], \"contour\": [{\"colorbar\": {\"outlinewidth\": 0, \"ticks\": \"\"}, \"colorscale\": [[0.0, \"#0d0887\"], [0.1111111111111111, \"#46039f\"], [0.2222222222222222, \"#7201a8\"], [0.3333333333333333, \"#9c179e\"], [0.4444444444444444, \"#bd3786\"], [0.5555555555555556, \"#d8576b\"], [0.6666666666666666, \"#ed7953\"], [0.7777777777777778, \"#fb9f3a\"], [0.8888888888888888, \"#fdca26\"], [1.0, \"#f0f921\"]], \"type\": \"contour\"}], \"contourcarpet\": [{\"colorbar\": {\"outlinewidth\": 0, \"ticks\": \"\"}, \"type\": \"contourcarpet\"}], \"heatmap\": [{\"colorbar\": {\"outlinewidth\": 0, \"ticks\": \"\"}, \"colorscale\": [[0.0, \"#0d0887\"], [0.1111111111111111, \"#46039f\"], [0.2222222222222222, \"#7201a8\"], [0.3333333333333333, \"#9c179e\"], [0.4444444444444444, \"#bd3786\"], [0.5555555555555556, \"#d8576b\"], [0.6666666666666666, \"#ed7953\"], [0.7777777777777778, \"#fb9f3a\"], [0.8888888888888888, \"#fdca26\"], [1.0, \"#f0f921\"]], \"type\": \"heatmap\"}], \"heatmapgl\": [{\"colorbar\": {\"outlinewidth\": 0, \"ticks\": \"\"}, \"colorscale\": [[0.0, \"#0d0887\"], [0.1111111111111111, \"#46039f\"], [0.2222222222222222, \"#7201a8\"], [0.3333333333333333, \"#9c179e\"], [0.4444444444444444, \"#bd3786\"], [0.5555555555555556, \"#d8576b\"], [0.6666666666666666, \"#ed7953\"], [0.7777777777777778, \"#fb9f3a\"], [0.8888888888888888, \"#fdca26\"], [1.0, \"#f0f921\"]], \"type\": \"heatmapgl\"}], \"histogram\": [{\"marker\": {\"colorbar\": {\"outlinewidth\": 0, \"ticks\": \"\"}}, \"type\": \"histogram\"}], \"histogram2d\": [{\"colorbar\": {\"outlinewidth\": 0, \"ticks\": \"\"}, \"colorscale\": [[0.0, \"#0d0887\"], [0.1111111111111111, \"#46039f\"], [0.2222222222222222, \"#7201a8\"], [0.3333333333333333, \"#9c179e\"], [0.4444444444444444, \"#bd3786\"], [0.5555555555555556, \"#d8576b\"], [0.6666666666666666, \"#ed7953\"], [0.7777777777777778, \"#fb9f3a\"], [0.8888888888888888, \"#fdca26\"], [1.0, \"#f0f921\"]], \"type\": \"histogram2d\"}], \"histogram2dcontour\": [{\"colorbar\": {\"outlinewidth\": 0, \"ticks\": \"\"}, \"colorscale\": [[0.0, \"#0d0887\"], [0.1111111111111111, \"#46039f\"], [0.2222222222222222, \"#7201a8\"], [0.3333333333333333, \"#9c179e\"], [0.4444444444444444, \"#bd3786\"], [0.5555555555555556, \"#d8576b\"], [0.6666666666666666, \"#ed7953\"], [0.7777777777777778, \"#fb9f3a\"], [0.8888888888888888, \"#fdca26\"], [1.0, \"#f0f921\"]], \"type\": \"histogram2dcontour\"}], \"mesh3d\": [{\"colorbar\": {\"outlinewidth\": 0, \"ticks\": \"\"}, \"type\": \"mesh3d\"}], \"parcoords\": [{\"line\": {\"colorbar\": {\"outlinewidth\": 0, \"ticks\": \"\"}}, \"type\": \"parcoords\"}], \"pie\": [{\"automargin\": true, \"type\": \"pie\"}], \"scatter\": [{\"marker\": {\"colorbar\": {\"outlinewidth\": 0, \"ticks\": \"\"}}, \"type\": \"scatter\"}], \"scatter3d\": [{\"line\": {\"colorbar\": {\"outlinewidth\": 0, \"ticks\": \"\"}}, \"marker\": {\"colorbar\": {\"outlinewidth\": 0, \"ticks\": \"\"}}, \"type\": \"scatter3d\"}], \"scattercarpet\": [{\"marker\": {\"colorbar\": {\"outlinewidth\": 0, \"ticks\": \"\"}}, \"type\": \"scattercarpet\"}], \"scattergeo\": [{\"marker\": {\"colorbar\": {\"outlinewidth\": 0, \"ticks\": \"\"}}, \"type\": \"scattergeo\"}], \"scattergl\": [{\"marker\": {\"colorbar\": {\"outlinewidth\": 0, \"ticks\": \"\"}}, \"type\": \"scattergl\"}], \"scattermapbox\": [{\"marker\": {\"colorbar\": {\"outlinewidth\": 0, \"ticks\": \"\"}}, \"type\": \"scattermapbox\"}], \"scatterpolar\": [{\"marker\": {\"colorbar\": {\"outlinewidth\": 0, \"ticks\": \"\"}}, \"type\": \"scatterpolar\"}], \"scatterpolargl\": [{\"marker\": {\"colorbar\": {\"outlinewidth\": 0, \"ticks\": \"\"}}, \"type\": \"scatterpolargl\"}], \"scatterternary\": [{\"marker\": {\"colorbar\": {\"outlinewidth\": 0, \"ticks\": \"\"}}, \"type\": \"scatterternary\"}], \"surface\": [{\"colorbar\": {\"outlinewidth\": 0, \"ticks\": \"\"}, \"colorscale\": [[0.0, \"#0d0887\"], [0.1111111111111111, \"#46039f\"], [0.2222222222222222, \"#7201a8\"], [0.3333333333333333, \"#9c179e\"], [0.4444444444444444, \"#bd3786\"], [0.5555555555555556, \"#d8576b\"], [0.6666666666666666, \"#ed7953\"], [0.7777777777777778, \"#fb9f3a\"], [0.8888888888888888, \"#fdca26\"], [1.0, \"#f0f921\"]], \"type\": \"surface\"}], \"table\": [{\"cells\": {\"fill\": {\"color\": \"#EBF0F8\"}, \"line\": {\"color\": \"white\"}}, \"header\": {\"fill\": {\"color\": \"#C8D4E3\"}, \"line\": {\"color\": \"white\"}}, \"type\": \"table\"}]}, \"layout\": {\"annotationdefaults\": {\"arrowcolor\": \"#2a3f5f\", \"arrowhead\": 0, \"arrowwidth\": 1}, \"coloraxis\": {\"colorbar\": {\"outlinewidth\": 0, \"ticks\": \"\"}}, \"colorscale\": {\"diverging\": [[0, \"#8e0152\"], [0.1, \"#c51b7d\"], [0.2, \"#de77ae\"], [0.3, \"#f1b6da\"], [0.4, \"#fde0ef\"], [0.5, \"#f7f7f7\"], [0.6, \"#e6f5d0\"], [0.7, \"#b8e186\"], [0.8, \"#7fbc41\"], [0.9, \"#4d9221\"], [1, \"#276419\"]], \"sequential\": [[0.0, \"#0d0887\"], [0.1111111111111111, \"#46039f\"], [0.2222222222222222, \"#7201a8\"], [0.3333333333333333, \"#9c179e\"], [0.4444444444444444, \"#bd3786\"], [0.5555555555555556, \"#d8576b\"], [0.6666666666666666, \"#ed7953\"], [0.7777777777777778, \"#fb9f3a\"], [0.8888888888888888, \"#fdca26\"], [1.0, \"#f0f921\"]], \"sequentialminus\": [[0.0, \"#0d0887\"], [0.1111111111111111, \"#46039f\"], [0.2222222222222222, \"#7201a8\"], [0.3333333333333333, \"#9c179e\"], [0.4444444444444444, \"#bd3786\"], [0.5555555555555556, \"#d8576b\"], [0.6666666666666666, \"#ed7953\"], [0.7777777777777778, \"#fb9f3a\"], [0.8888888888888888, \"#fdca26\"], [1.0, \"#f0f921\"]]}, \"colorway\": [\"#636efa\", \"#EF553B\", \"#00cc96\", \"#ab63fa\", \"#FFA15A\", \"#19d3f3\", \"#FF6692\", \"#B6E880\", \"#FF97FF\", \"#FECB52\"], \"font\": {\"color\": \"#2a3f5f\"}, \"geo\": {\"bgcolor\": \"white\", \"lakecolor\": \"white\", \"landcolor\": \"#E5ECF6\", \"showlakes\": true, \"showland\": true, \"subunitcolor\": \"white\"}, \"hoverlabel\": {\"align\": \"left\"}, \"hovermode\": \"closest\", \"mapbox\": {\"style\": \"light\"}, \"paper_bgcolor\": \"white\", \"plot_bgcolor\": \"#E5ECF6\", \"polar\": {\"angularaxis\": {\"gridcolor\": \"white\", \"linecolor\": \"white\", \"ticks\": \"\"}, \"bgcolor\": \"#E5ECF6\", \"radialaxis\": {\"gridcolor\": \"white\", \"linecolor\": \"white\", \"ticks\": \"\"}}, \"scene\": {\"xaxis\": {\"backgroundcolor\": \"#E5ECF6\", \"gridcolor\": \"white\", \"gridwidth\": 2, \"linecolor\": \"white\", \"showbackground\": true, \"ticks\": \"\", \"zerolinecolor\": \"white\"}, \"yaxis\": {\"backgroundcolor\": \"#E5ECF6\", \"gridcolor\": \"white\", \"gridwidth\": 2, \"linecolor\": \"white\", \"showbackground\": true, \"ticks\": \"\", \"zerolinecolor\": \"white\"}, \"zaxis\": {\"backgroundcolor\": \"#E5ECF6\", \"gridcolor\": \"white\", \"gridwidth\": 2, \"linecolor\": \"white\", \"showbackground\": true, \"ticks\": \"\", \"zerolinecolor\": \"white\"}}, \"shapedefaults\": {\"line\": {\"color\": \"#2a3f5f\"}}, \"ternary\": {\"aaxis\": {\"gridcolor\": \"white\", \"linecolor\": \"white\", \"ticks\": \"\"}, \"baxis\": {\"gridcolor\": \"white\", \"linecolor\": \"white\", \"ticks\": \"\"}, \"bgcolor\": \"#E5ECF6\", \"caxis\": {\"gridcolor\": \"white\", \"linecolor\": \"white\", \"ticks\": \"\"}}, \"title\": {\"x\": 0.05}, \"xaxis\": {\"automargin\": true, \"gridcolor\": \"white\", \"linecolor\": \"white\", \"ticks\": \"\", \"title\": {\"standoff\": 15}, \"zerolinecolor\": \"white\", \"zerolinewidth\": 2}, \"yaxis\": {\"automargin\": true, \"gridcolor\": \"white\", \"linecolor\": \"white\", \"ticks\": \"\", \"title\": {\"standoff\": 15}, \"zerolinecolor\": \"white\", \"zerolinewidth\": 2}}}, \"xaxis\": {\"anchor\": \"y\", \"domain\": [0.0, 1.0], \"title\": {\"text\": \"POS\"}}, \"yaxis\": {\"anchor\": \"x\", \"domain\": [0.0, 1.0], \"title\": {\"text\": \"Num\"}}},\n",
       "                        {\"responsive\": true}\n",
       "                    ).then(function(){\n",
       "                            \n",
       "var gd = document.getElementById('2ea5c239-9c87-41c8-a15e-5af453dba0ac');\n",
       "var x = new MutationObserver(function (mutations, observer) {{\n",
       "        var display = window.getComputedStyle(gd).display;\n",
       "        if (!display || display === 'none') {{\n",
       "            console.log([gd, 'removed!']);\n",
       "            Plotly.purge(gd);\n",
       "            observer.disconnect();\n",
       "        }}\n",
       "}});\n",
       "\n",
       "// Listen for the removal of the full notebook cells\n",
       "var notebookContainer = gd.closest('#notebook-container');\n",
       "if (notebookContainer) {{\n",
       "    x.observe(notebookContainer, {childList: true});\n",
       "}}\n",
       "\n",
       "// Listen for the clearing of the current output cell\n",
       "var outputEl = gd.closest('.output');\n",
       "if (outputEl) {{\n",
       "    x.observe(outputEl, {childList: true});\n",
       "}}\n",
       "\n",
       "                        })\n",
       "                };\n",
       "                });\n",
       "            </script>\n",
       "        </div>"
      ]
     },
     "metadata": {},
     "output_type": "display_data"
    }
   ],
   "source": [
    "#使用plotly_express构建统计图\n",
    "import plotly_express as px\n",
    "px.xlabel='POS'\n",
    "px.bar(statis_data,x='POS',y='Num',barmode=\"group\")\n"
   ]
  },
  {
   "cell_type": "code",
   "execution_count": 31,
   "metadata": {},
   "outputs": [
    {
     "name": "stdout",
     "output_type": "stream",
     "text": [
      "7558 4\n"
     ]
    }
   ],
   "source": [
    "print(len(idioms),len(pos))"
   ]
  },
  {
   "cell_type": "code",
   "execution_count": 36,
   "metadata": {},
   "outputs": [],
   "source": [
    "#打开成语词典的语料集\n",
    "idioms=pd.read_csv('data/simplified_idioms.csv')\n",
    "idioms=idioms['idiom'].tolist()"
   ]
  },
  {
   "cell_type": "code",
   "execution_count": 37,
   "metadata": {
    "scrolled": true
   },
   "outputs": [
    {
     "name": "stderr",
     "output_type": "stream",
     "text": [
      "100%|██████████████████████████████████████████████████████████████████████████████████| 4/4 [00:00<00:00, 4009.85it/s]\n"
     ]
    }
   ],
   "source": [
    "statistic_word={}\n",
    "i=0\n",
    "for item in tqdm(pos):\n",
    "    if str(item) in statistic_word.keys():\n",
    "        statistic_word[str(item)]+=1\n",
    "    else:\n",
    "        statistic_word[str(item)]=1"
   ]
  },
  {
   "cell_type": "code",
   "execution_count": 38,
   "metadata": {},
   "outputs": [],
   "source": [
    "statistic_word=sorted(statistic_word.items(),key=lambda item:item[1],reverse=True)"
   ]
  },
  {
   "cell_type": "code",
   "execution_count": 39,
   "metadata": {
    "scrolled": true
   },
   "outputs": [
    {
     "data": {
      "text/plain": [
       "([], [])"
      ]
     },
     "execution_count": 39,
     "metadata": {},
     "output_type": "execute_result"
    }
   ],
   "source": [
    "structure=[]\n",
    "num=[]\n",
    "for item in statistic_word:\n",
    "    if item[1]<=10:\n",
    "        continue\n",
    "    structure.append(item[0])\n",
    "    num.append(item[1])\n",
    "\n",
    "structure,num"
   ]
  },
  {
   "cell_type": "code",
   "execution_count": 40,
   "metadata": {
    "scrolled": true
   },
   "outputs": [
    {
     "data": {
      "text/html": [
       "<div>\n",
       "<style scoped>\n",
       "    .dataframe tbody tr th:only-of-type {\n",
       "        vertical-align: middle;\n",
       "    }\n",
       "\n",
       "    .dataframe tbody tr th {\n",
       "        vertical-align: top;\n",
       "    }\n",
       "\n",
       "    .dataframe thead th {\n",
       "        text-align: right;\n",
       "    }\n",
       "</style>\n",
       "<table border=\"1\" class=\"dataframe\">\n",
       "  <thead>\n",
       "    <tr style=\"text-align: right;\">\n",
       "      <th></th>\n",
       "      <th>Structure</th>\n",
       "      <th>Num</th>\n",
       "    </tr>\n",
       "  </thead>\n",
       "  <tbody>\n",
       "  </tbody>\n",
       "</table>\n",
       "</div>"
      ],
      "text/plain": [
       "Empty DataFrame\n",
       "Columns: [Structure, Num]\n",
       "Index: []"
      ]
     },
     "execution_count": 40,
     "metadata": {},
     "output_type": "execute_result"
    }
   ],
   "source": [
    "statis_word_data=pd.DataFrame(data={'Structure':structure,'Num':num})\n",
    "statis_word_data"
   ]
  },
  {
   "cell_type": "code",
   "execution_count": 41,
   "metadata": {},
   "outputs": [
    {
     "data": {
      "application/vnd.plotly.v1+json": {
       "config": {
        "plotlyServerURL": "https://plot.ly"
       },
       "data": [],
       "layout": {
        "barmode": "group",
        "legend": {
         "tracegroupgap": 0
        },
        "margin": {
         "t": 60
        },
        "template": {
         "data": {
          "bar": [
           {
            "error_x": {
             "color": "#2a3f5f"
            },
            "error_y": {
             "color": "#2a3f5f"
            },
            "marker": {
             "line": {
              "color": "#E5ECF6",
              "width": 0.5
             }
            },
            "type": "bar"
           }
          ],
          "barpolar": [
           {
            "marker": {
             "line": {
              "color": "#E5ECF6",
              "width": 0.5
             }
            },
            "type": "barpolar"
           }
          ],
          "carpet": [
           {
            "aaxis": {
             "endlinecolor": "#2a3f5f",
             "gridcolor": "white",
             "linecolor": "white",
             "minorgridcolor": "white",
             "startlinecolor": "#2a3f5f"
            },
            "baxis": {
             "endlinecolor": "#2a3f5f",
             "gridcolor": "white",
             "linecolor": "white",
             "minorgridcolor": "white",
             "startlinecolor": "#2a3f5f"
            },
            "type": "carpet"
           }
          ],
          "choropleth": [
           {
            "colorbar": {
             "outlinewidth": 0,
             "ticks": ""
            },
            "type": "choropleth"
           }
          ],
          "contour": [
           {
            "colorbar": {
             "outlinewidth": 0,
             "ticks": ""
            },
            "colorscale": [
             [
              0,
              "#0d0887"
             ],
             [
              0.1111111111111111,
              "#46039f"
             ],
             [
              0.2222222222222222,
              "#7201a8"
             ],
             [
              0.3333333333333333,
              "#9c179e"
             ],
             [
              0.4444444444444444,
              "#bd3786"
             ],
             [
              0.5555555555555556,
              "#d8576b"
             ],
             [
              0.6666666666666666,
              "#ed7953"
             ],
             [
              0.7777777777777778,
              "#fb9f3a"
             ],
             [
              0.8888888888888888,
              "#fdca26"
             ],
             [
              1,
              "#f0f921"
             ]
            ],
            "type": "contour"
           }
          ],
          "contourcarpet": [
           {
            "colorbar": {
             "outlinewidth": 0,
             "ticks": ""
            },
            "type": "contourcarpet"
           }
          ],
          "heatmap": [
           {
            "colorbar": {
             "outlinewidth": 0,
             "ticks": ""
            },
            "colorscale": [
             [
              0,
              "#0d0887"
             ],
             [
              0.1111111111111111,
              "#46039f"
             ],
             [
              0.2222222222222222,
              "#7201a8"
             ],
             [
              0.3333333333333333,
              "#9c179e"
             ],
             [
              0.4444444444444444,
              "#bd3786"
             ],
             [
              0.5555555555555556,
              "#d8576b"
             ],
             [
              0.6666666666666666,
              "#ed7953"
             ],
             [
              0.7777777777777778,
              "#fb9f3a"
             ],
             [
              0.8888888888888888,
              "#fdca26"
             ],
             [
              1,
              "#f0f921"
             ]
            ],
            "type": "heatmap"
           }
          ],
          "heatmapgl": [
           {
            "colorbar": {
             "outlinewidth": 0,
             "ticks": ""
            },
            "colorscale": [
             [
              0,
              "#0d0887"
             ],
             [
              0.1111111111111111,
              "#46039f"
             ],
             [
              0.2222222222222222,
              "#7201a8"
             ],
             [
              0.3333333333333333,
              "#9c179e"
             ],
             [
              0.4444444444444444,
              "#bd3786"
             ],
             [
              0.5555555555555556,
              "#d8576b"
             ],
             [
              0.6666666666666666,
              "#ed7953"
             ],
             [
              0.7777777777777778,
              "#fb9f3a"
             ],
             [
              0.8888888888888888,
              "#fdca26"
             ],
             [
              1,
              "#f0f921"
             ]
            ],
            "type": "heatmapgl"
           }
          ],
          "histogram": [
           {
            "marker": {
             "colorbar": {
              "outlinewidth": 0,
              "ticks": ""
             }
            },
            "type": "histogram"
           }
          ],
          "histogram2d": [
           {
            "colorbar": {
             "outlinewidth": 0,
             "ticks": ""
            },
            "colorscale": [
             [
              0,
              "#0d0887"
             ],
             [
              0.1111111111111111,
              "#46039f"
             ],
             [
              0.2222222222222222,
              "#7201a8"
             ],
             [
              0.3333333333333333,
              "#9c179e"
             ],
             [
              0.4444444444444444,
              "#bd3786"
             ],
             [
              0.5555555555555556,
              "#d8576b"
             ],
             [
              0.6666666666666666,
              "#ed7953"
             ],
             [
              0.7777777777777778,
              "#fb9f3a"
             ],
             [
              0.8888888888888888,
              "#fdca26"
             ],
             [
              1,
              "#f0f921"
             ]
            ],
            "type": "histogram2d"
           }
          ],
          "histogram2dcontour": [
           {
            "colorbar": {
             "outlinewidth": 0,
             "ticks": ""
            },
            "colorscale": [
             [
              0,
              "#0d0887"
             ],
             [
              0.1111111111111111,
              "#46039f"
             ],
             [
              0.2222222222222222,
              "#7201a8"
             ],
             [
              0.3333333333333333,
              "#9c179e"
             ],
             [
              0.4444444444444444,
              "#bd3786"
             ],
             [
              0.5555555555555556,
              "#d8576b"
             ],
             [
              0.6666666666666666,
              "#ed7953"
             ],
             [
              0.7777777777777778,
              "#fb9f3a"
             ],
             [
              0.8888888888888888,
              "#fdca26"
             ],
             [
              1,
              "#f0f921"
             ]
            ],
            "type": "histogram2dcontour"
           }
          ],
          "mesh3d": [
           {
            "colorbar": {
             "outlinewidth": 0,
             "ticks": ""
            },
            "type": "mesh3d"
           }
          ],
          "parcoords": [
           {
            "line": {
             "colorbar": {
              "outlinewidth": 0,
              "ticks": ""
             }
            },
            "type": "parcoords"
           }
          ],
          "pie": [
           {
            "automargin": true,
            "type": "pie"
           }
          ],
          "scatter": [
           {
            "marker": {
             "colorbar": {
              "outlinewidth": 0,
              "ticks": ""
             }
            },
            "type": "scatter"
           }
          ],
          "scatter3d": [
           {
            "line": {
             "colorbar": {
              "outlinewidth": 0,
              "ticks": ""
             }
            },
            "marker": {
             "colorbar": {
              "outlinewidth": 0,
              "ticks": ""
             }
            },
            "type": "scatter3d"
           }
          ],
          "scattercarpet": [
           {
            "marker": {
             "colorbar": {
              "outlinewidth": 0,
              "ticks": ""
             }
            },
            "type": "scattercarpet"
           }
          ],
          "scattergeo": [
           {
            "marker": {
             "colorbar": {
              "outlinewidth": 0,
              "ticks": ""
             }
            },
            "type": "scattergeo"
           }
          ],
          "scattergl": [
           {
            "marker": {
             "colorbar": {
              "outlinewidth": 0,
              "ticks": ""
             }
            },
            "type": "scattergl"
           }
          ],
          "scattermapbox": [
           {
            "marker": {
             "colorbar": {
              "outlinewidth": 0,
              "ticks": ""
             }
            },
            "type": "scattermapbox"
           }
          ],
          "scatterpolar": [
           {
            "marker": {
             "colorbar": {
              "outlinewidth": 0,
              "ticks": ""
             }
            },
            "type": "scatterpolar"
           }
          ],
          "scatterpolargl": [
           {
            "marker": {
             "colorbar": {
              "outlinewidth": 0,
              "ticks": ""
             }
            },
            "type": "scatterpolargl"
           }
          ],
          "scatterternary": [
           {
            "marker": {
             "colorbar": {
              "outlinewidth": 0,
              "ticks": ""
             }
            },
            "type": "scatterternary"
           }
          ],
          "surface": [
           {
            "colorbar": {
             "outlinewidth": 0,
             "ticks": ""
            },
            "colorscale": [
             [
              0,
              "#0d0887"
             ],
             [
              0.1111111111111111,
              "#46039f"
             ],
             [
              0.2222222222222222,
              "#7201a8"
             ],
             [
              0.3333333333333333,
              "#9c179e"
             ],
             [
              0.4444444444444444,
              "#bd3786"
             ],
             [
              0.5555555555555556,
              "#d8576b"
             ],
             [
              0.6666666666666666,
              "#ed7953"
             ],
             [
              0.7777777777777778,
              "#fb9f3a"
             ],
             [
              0.8888888888888888,
              "#fdca26"
             ],
             [
              1,
              "#f0f921"
             ]
            ],
            "type": "surface"
           }
          ],
          "table": [
           {
            "cells": {
             "fill": {
              "color": "#EBF0F8"
             },
             "line": {
              "color": "white"
             }
            },
            "header": {
             "fill": {
              "color": "#C8D4E3"
             },
             "line": {
              "color": "white"
             }
            },
            "type": "table"
           }
          ]
         },
         "layout": {
          "annotationdefaults": {
           "arrowcolor": "#2a3f5f",
           "arrowhead": 0,
           "arrowwidth": 1
          },
          "coloraxis": {
           "colorbar": {
            "outlinewidth": 0,
            "ticks": ""
           }
          },
          "colorscale": {
           "diverging": [
            [
             0,
             "#8e0152"
            ],
            [
             0.1,
             "#c51b7d"
            ],
            [
             0.2,
             "#de77ae"
            ],
            [
             0.3,
             "#f1b6da"
            ],
            [
             0.4,
             "#fde0ef"
            ],
            [
             0.5,
             "#f7f7f7"
            ],
            [
             0.6,
             "#e6f5d0"
            ],
            [
             0.7,
             "#b8e186"
            ],
            [
             0.8,
             "#7fbc41"
            ],
            [
             0.9,
             "#4d9221"
            ],
            [
             1,
             "#276419"
            ]
           ],
           "sequential": [
            [
             0,
             "#0d0887"
            ],
            [
             0.1111111111111111,
             "#46039f"
            ],
            [
             0.2222222222222222,
             "#7201a8"
            ],
            [
             0.3333333333333333,
             "#9c179e"
            ],
            [
             0.4444444444444444,
             "#bd3786"
            ],
            [
             0.5555555555555556,
             "#d8576b"
            ],
            [
             0.6666666666666666,
             "#ed7953"
            ],
            [
             0.7777777777777778,
             "#fb9f3a"
            ],
            [
             0.8888888888888888,
             "#fdca26"
            ],
            [
             1,
             "#f0f921"
            ]
           ],
           "sequentialminus": [
            [
             0,
             "#0d0887"
            ],
            [
             0.1111111111111111,
             "#46039f"
            ],
            [
             0.2222222222222222,
             "#7201a8"
            ],
            [
             0.3333333333333333,
             "#9c179e"
            ],
            [
             0.4444444444444444,
             "#bd3786"
            ],
            [
             0.5555555555555556,
             "#d8576b"
            ],
            [
             0.6666666666666666,
             "#ed7953"
            ],
            [
             0.7777777777777778,
             "#fb9f3a"
            ],
            [
             0.8888888888888888,
             "#fdca26"
            ],
            [
             1,
             "#f0f921"
            ]
           ]
          },
          "colorway": [
           "#636efa",
           "#EF553B",
           "#00cc96",
           "#ab63fa",
           "#FFA15A",
           "#19d3f3",
           "#FF6692",
           "#B6E880",
           "#FF97FF",
           "#FECB52"
          ],
          "font": {
           "color": "#2a3f5f"
          },
          "geo": {
           "bgcolor": "white",
           "lakecolor": "white",
           "landcolor": "#E5ECF6",
           "showlakes": true,
           "showland": true,
           "subunitcolor": "white"
          },
          "hoverlabel": {
           "align": "left"
          },
          "hovermode": "closest",
          "mapbox": {
           "style": "light"
          },
          "paper_bgcolor": "white",
          "plot_bgcolor": "#E5ECF6",
          "polar": {
           "angularaxis": {
            "gridcolor": "white",
            "linecolor": "white",
            "ticks": ""
           },
           "bgcolor": "#E5ECF6",
           "radialaxis": {
            "gridcolor": "white",
            "linecolor": "white",
            "ticks": ""
           }
          },
          "scene": {
           "xaxis": {
            "backgroundcolor": "#E5ECF6",
            "gridcolor": "white",
            "gridwidth": 2,
            "linecolor": "white",
            "showbackground": true,
            "ticks": "",
            "zerolinecolor": "white"
           },
           "yaxis": {
            "backgroundcolor": "#E5ECF6",
            "gridcolor": "white",
            "gridwidth": 2,
            "linecolor": "white",
            "showbackground": true,
            "ticks": "",
            "zerolinecolor": "white"
           },
           "zaxis": {
            "backgroundcolor": "#E5ECF6",
            "gridcolor": "white",
            "gridwidth": 2,
            "linecolor": "white",
            "showbackground": true,
            "ticks": "",
            "zerolinecolor": "white"
           }
          },
          "shapedefaults": {
           "line": {
            "color": "#2a3f5f"
           }
          },
          "ternary": {
           "aaxis": {
            "gridcolor": "white",
            "linecolor": "white",
            "ticks": ""
           },
           "baxis": {
            "gridcolor": "white",
            "linecolor": "white",
            "ticks": ""
           },
           "bgcolor": "#E5ECF6",
           "caxis": {
            "gridcolor": "white",
            "linecolor": "white",
            "ticks": ""
           }
          },
          "title": {
           "x": 0.05
          },
          "xaxis": {
           "automargin": true,
           "gridcolor": "white",
           "linecolor": "white",
           "ticks": "",
           "title": {
            "standoff": 15
           },
           "zerolinecolor": "white",
           "zerolinewidth": 2
          },
          "yaxis": {
           "automargin": true,
           "gridcolor": "white",
           "linecolor": "white",
           "ticks": "",
           "title": {
            "standoff": 15
           },
           "zerolinecolor": "white",
           "zerolinewidth": 2
          }
         }
        },
        "xaxis": {
         "anchor": "y",
         "domain": [
          0,
          1
         ],
         "title": {
          "text": "Structure"
         }
        },
        "yaxis": {
         "anchor": "x",
         "domain": [
          0,
          1
         ],
         "title": {
          "text": "Num"
         }
        }
       }
      },
      "text/html": [
       "<div>\n",
       "        \n",
       "        \n",
       "            <div id=\"f97eb342-10da-4709-ae44-f8dd1dff23fa\" class=\"plotly-graph-div\" style=\"height:525px; width:100%;\"></div>\n",
       "            <script type=\"text/javascript\">\n",
       "                require([\"plotly\"], function(Plotly) {\n",
       "                    window.PLOTLYENV=window.PLOTLYENV || {};\n",
       "                    \n",
       "                if (document.getElementById(\"f97eb342-10da-4709-ae44-f8dd1dff23fa\")) {\n",
       "                    Plotly.newPlot(\n",
       "                        'f97eb342-10da-4709-ae44-f8dd1dff23fa',\n",
       "                        [],\n",
       "                        {\"barmode\": \"group\", \"legend\": {\"tracegroupgap\": 0}, \"margin\": {\"t\": 60}, \"template\": {\"data\": {\"bar\": [{\"error_x\": {\"color\": \"#2a3f5f\"}, \"error_y\": {\"color\": \"#2a3f5f\"}, \"marker\": {\"line\": {\"color\": \"#E5ECF6\", \"width\": 0.5}}, \"type\": \"bar\"}], \"barpolar\": [{\"marker\": {\"line\": {\"color\": \"#E5ECF6\", \"width\": 0.5}}, \"type\": \"barpolar\"}], \"carpet\": [{\"aaxis\": {\"endlinecolor\": \"#2a3f5f\", \"gridcolor\": \"white\", \"linecolor\": \"white\", \"minorgridcolor\": \"white\", \"startlinecolor\": \"#2a3f5f\"}, \"baxis\": {\"endlinecolor\": \"#2a3f5f\", \"gridcolor\": \"white\", \"linecolor\": \"white\", \"minorgridcolor\": \"white\", \"startlinecolor\": \"#2a3f5f\"}, \"type\": \"carpet\"}], \"choropleth\": [{\"colorbar\": {\"outlinewidth\": 0, \"ticks\": \"\"}, \"type\": \"choropleth\"}], \"contour\": [{\"colorbar\": {\"outlinewidth\": 0, \"ticks\": \"\"}, \"colorscale\": [[0.0, \"#0d0887\"], [0.1111111111111111, \"#46039f\"], [0.2222222222222222, \"#7201a8\"], [0.3333333333333333, \"#9c179e\"], [0.4444444444444444, \"#bd3786\"], [0.5555555555555556, \"#d8576b\"], [0.6666666666666666, \"#ed7953\"], [0.7777777777777778, \"#fb9f3a\"], [0.8888888888888888, \"#fdca26\"], [1.0, \"#f0f921\"]], \"type\": \"contour\"}], \"contourcarpet\": [{\"colorbar\": {\"outlinewidth\": 0, \"ticks\": \"\"}, \"type\": \"contourcarpet\"}], \"heatmap\": [{\"colorbar\": {\"outlinewidth\": 0, \"ticks\": \"\"}, \"colorscale\": [[0.0, \"#0d0887\"], [0.1111111111111111, \"#46039f\"], [0.2222222222222222, \"#7201a8\"], [0.3333333333333333, \"#9c179e\"], [0.4444444444444444, \"#bd3786\"], [0.5555555555555556, \"#d8576b\"], [0.6666666666666666, \"#ed7953\"], [0.7777777777777778, \"#fb9f3a\"], [0.8888888888888888, \"#fdca26\"], [1.0, \"#f0f921\"]], \"type\": \"heatmap\"}], \"heatmapgl\": [{\"colorbar\": {\"outlinewidth\": 0, \"ticks\": \"\"}, \"colorscale\": [[0.0, \"#0d0887\"], [0.1111111111111111, \"#46039f\"], [0.2222222222222222, \"#7201a8\"], [0.3333333333333333, \"#9c179e\"], [0.4444444444444444, \"#bd3786\"], [0.5555555555555556, \"#d8576b\"], [0.6666666666666666, \"#ed7953\"], [0.7777777777777778, \"#fb9f3a\"], [0.8888888888888888, \"#fdca26\"], [1.0, \"#f0f921\"]], \"type\": \"heatmapgl\"}], \"histogram\": [{\"marker\": {\"colorbar\": {\"outlinewidth\": 0, \"ticks\": \"\"}}, \"type\": \"histogram\"}], \"histogram2d\": [{\"colorbar\": {\"outlinewidth\": 0, \"ticks\": \"\"}, \"colorscale\": [[0.0, \"#0d0887\"], [0.1111111111111111, \"#46039f\"], [0.2222222222222222, \"#7201a8\"], [0.3333333333333333, \"#9c179e\"], [0.4444444444444444, \"#bd3786\"], [0.5555555555555556, \"#d8576b\"], [0.6666666666666666, \"#ed7953\"], [0.7777777777777778, \"#fb9f3a\"], [0.8888888888888888, \"#fdca26\"], [1.0, \"#f0f921\"]], \"type\": \"histogram2d\"}], \"histogram2dcontour\": [{\"colorbar\": {\"outlinewidth\": 0, \"ticks\": \"\"}, \"colorscale\": [[0.0, \"#0d0887\"], [0.1111111111111111, \"#46039f\"], [0.2222222222222222, \"#7201a8\"], [0.3333333333333333, \"#9c179e\"], [0.4444444444444444, \"#bd3786\"], [0.5555555555555556, \"#d8576b\"], [0.6666666666666666, \"#ed7953\"], [0.7777777777777778, \"#fb9f3a\"], [0.8888888888888888, \"#fdca26\"], [1.0, \"#f0f921\"]], \"type\": \"histogram2dcontour\"}], \"mesh3d\": [{\"colorbar\": {\"outlinewidth\": 0, \"ticks\": \"\"}, \"type\": \"mesh3d\"}], \"parcoords\": [{\"line\": {\"colorbar\": {\"outlinewidth\": 0, \"ticks\": \"\"}}, \"type\": \"parcoords\"}], \"pie\": [{\"automargin\": true, \"type\": \"pie\"}], \"scatter\": [{\"marker\": {\"colorbar\": {\"outlinewidth\": 0, \"ticks\": \"\"}}, \"type\": \"scatter\"}], \"scatter3d\": [{\"line\": {\"colorbar\": {\"outlinewidth\": 0, \"ticks\": \"\"}}, \"marker\": {\"colorbar\": {\"outlinewidth\": 0, \"ticks\": \"\"}}, \"type\": \"scatter3d\"}], \"scattercarpet\": [{\"marker\": {\"colorbar\": {\"outlinewidth\": 0, \"ticks\": \"\"}}, \"type\": \"scattercarpet\"}], \"scattergeo\": [{\"marker\": {\"colorbar\": {\"outlinewidth\": 0, \"ticks\": \"\"}}, \"type\": \"scattergeo\"}], \"scattergl\": [{\"marker\": {\"colorbar\": {\"outlinewidth\": 0, \"ticks\": \"\"}}, \"type\": \"scattergl\"}], \"scattermapbox\": [{\"marker\": {\"colorbar\": {\"outlinewidth\": 0, \"ticks\": \"\"}}, \"type\": \"scattermapbox\"}], \"scatterpolar\": [{\"marker\": {\"colorbar\": {\"outlinewidth\": 0, \"ticks\": \"\"}}, \"type\": \"scatterpolar\"}], \"scatterpolargl\": [{\"marker\": {\"colorbar\": {\"outlinewidth\": 0, \"ticks\": \"\"}}, \"type\": \"scatterpolargl\"}], \"scatterternary\": [{\"marker\": {\"colorbar\": {\"outlinewidth\": 0, \"ticks\": \"\"}}, \"type\": \"scatterternary\"}], \"surface\": [{\"colorbar\": {\"outlinewidth\": 0, \"ticks\": \"\"}, \"colorscale\": [[0.0, \"#0d0887\"], [0.1111111111111111, \"#46039f\"], [0.2222222222222222, \"#7201a8\"], [0.3333333333333333, \"#9c179e\"], [0.4444444444444444, \"#bd3786\"], [0.5555555555555556, \"#d8576b\"], [0.6666666666666666, \"#ed7953\"], [0.7777777777777778, \"#fb9f3a\"], [0.8888888888888888, \"#fdca26\"], [1.0, \"#f0f921\"]], \"type\": \"surface\"}], \"table\": [{\"cells\": {\"fill\": {\"color\": \"#EBF0F8\"}, \"line\": {\"color\": \"white\"}}, \"header\": {\"fill\": {\"color\": \"#C8D4E3\"}, \"line\": {\"color\": \"white\"}}, \"type\": \"table\"}]}, \"layout\": {\"annotationdefaults\": {\"arrowcolor\": \"#2a3f5f\", \"arrowhead\": 0, \"arrowwidth\": 1}, \"coloraxis\": {\"colorbar\": {\"outlinewidth\": 0, \"ticks\": \"\"}}, \"colorscale\": {\"diverging\": [[0, \"#8e0152\"], [0.1, \"#c51b7d\"], [0.2, \"#de77ae\"], [0.3, \"#f1b6da\"], [0.4, \"#fde0ef\"], [0.5, \"#f7f7f7\"], [0.6, \"#e6f5d0\"], [0.7, \"#b8e186\"], [0.8, \"#7fbc41\"], [0.9, \"#4d9221\"], [1, \"#276419\"]], \"sequential\": [[0.0, \"#0d0887\"], [0.1111111111111111, \"#46039f\"], [0.2222222222222222, \"#7201a8\"], [0.3333333333333333, \"#9c179e\"], [0.4444444444444444, \"#bd3786\"], [0.5555555555555556, \"#d8576b\"], [0.6666666666666666, \"#ed7953\"], [0.7777777777777778, \"#fb9f3a\"], [0.8888888888888888, \"#fdca26\"], [1.0, \"#f0f921\"]], \"sequentialminus\": [[0.0, \"#0d0887\"], [0.1111111111111111, \"#46039f\"], [0.2222222222222222, \"#7201a8\"], [0.3333333333333333, \"#9c179e\"], [0.4444444444444444, \"#bd3786\"], [0.5555555555555556, \"#d8576b\"], [0.6666666666666666, \"#ed7953\"], [0.7777777777777778, \"#fb9f3a\"], [0.8888888888888888, \"#fdca26\"], [1.0, \"#f0f921\"]]}, \"colorway\": [\"#636efa\", \"#EF553B\", \"#00cc96\", \"#ab63fa\", \"#FFA15A\", \"#19d3f3\", \"#FF6692\", \"#B6E880\", \"#FF97FF\", \"#FECB52\"], \"font\": {\"color\": \"#2a3f5f\"}, \"geo\": {\"bgcolor\": \"white\", \"lakecolor\": \"white\", \"landcolor\": \"#E5ECF6\", \"showlakes\": true, \"showland\": true, \"subunitcolor\": \"white\"}, \"hoverlabel\": {\"align\": \"left\"}, \"hovermode\": \"closest\", \"mapbox\": {\"style\": \"light\"}, \"paper_bgcolor\": \"white\", \"plot_bgcolor\": \"#E5ECF6\", \"polar\": {\"angularaxis\": {\"gridcolor\": \"white\", \"linecolor\": \"white\", \"ticks\": \"\"}, \"bgcolor\": \"#E5ECF6\", \"radialaxis\": {\"gridcolor\": \"white\", \"linecolor\": \"white\", \"ticks\": \"\"}}, \"scene\": {\"xaxis\": {\"backgroundcolor\": \"#E5ECF6\", \"gridcolor\": \"white\", \"gridwidth\": 2, \"linecolor\": \"white\", \"showbackground\": true, \"ticks\": \"\", \"zerolinecolor\": \"white\"}, \"yaxis\": {\"backgroundcolor\": \"#E5ECF6\", \"gridcolor\": \"white\", \"gridwidth\": 2, \"linecolor\": \"white\", \"showbackground\": true, \"ticks\": \"\", \"zerolinecolor\": \"white\"}, \"zaxis\": {\"backgroundcolor\": \"#E5ECF6\", \"gridcolor\": \"white\", \"gridwidth\": 2, \"linecolor\": \"white\", \"showbackground\": true, \"ticks\": \"\", \"zerolinecolor\": \"white\"}}, \"shapedefaults\": {\"line\": {\"color\": \"#2a3f5f\"}}, \"ternary\": {\"aaxis\": {\"gridcolor\": \"white\", \"linecolor\": \"white\", \"ticks\": \"\"}, \"baxis\": {\"gridcolor\": \"white\", \"linecolor\": \"white\", \"ticks\": \"\"}, \"bgcolor\": \"#E5ECF6\", \"caxis\": {\"gridcolor\": \"white\", \"linecolor\": \"white\", \"ticks\": \"\"}}, \"title\": {\"x\": 0.05}, \"xaxis\": {\"automargin\": true, \"gridcolor\": \"white\", \"linecolor\": \"white\", \"ticks\": \"\", \"title\": {\"standoff\": 15}, \"zerolinecolor\": \"white\", \"zerolinewidth\": 2}, \"yaxis\": {\"automargin\": true, \"gridcolor\": \"white\", \"linecolor\": \"white\", \"ticks\": \"\", \"title\": {\"standoff\": 15}, \"zerolinecolor\": \"white\", \"zerolinewidth\": 2}}}, \"xaxis\": {\"anchor\": \"y\", \"domain\": [0.0, 1.0], \"title\": {\"text\": \"Structure\"}}, \"yaxis\": {\"anchor\": \"x\", \"domain\": [0.0, 1.0], \"title\": {\"text\": \"Num\"}}},\n",
       "                        {\"responsive\": true}\n",
       "                    ).then(function(){\n",
       "                            \n",
       "var gd = document.getElementById('f97eb342-10da-4709-ae44-f8dd1dff23fa');\n",
       "var x = new MutationObserver(function (mutations, observer) {{\n",
       "        var display = window.getComputedStyle(gd).display;\n",
       "        if (!display || display === 'none') {{\n",
       "            console.log([gd, 'removed!']);\n",
       "            Plotly.purge(gd);\n",
       "            observer.disconnect();\n",
       "        }}\n",
       "}});\n",
       "\n",
       "// Listen for the removal of the full notebook cells\n",
       "var notebookContainer = gd.closest('#notebook-container');\n",
       "if (notebookContainer) {{\n",
       "    x.observe(notebookContainer, {childList: true});\n",
       "}}\n",
       "\n",
       "// Listen for the clearing of the current output cell\n",
       "var outputEl = gd.closest('.output');\n",
       "if (outputEl) {{\n",
       "    x.observe(outputEl, {childList: true});\n",
       "}}\n",
       "\n",
       "                        })\n",
       "                };\n",
       "                });\n",
       "            </script>\n",
       "        </div>"
      ]
     },
     "metadata": {},
     "output_type": "display_data"
    }
   ],
   "source": [
    "px.bar(statis_word_data,x='Structure',y='Num',barmode=\"group\")"
   ]
  },
  {
   "cell_type": "code",
   "execution_count": 6,
   "metadata": {
    "ExecuteTime": {
     "end_time": "2021-05-27T07:42:18.094014Z",
     "start_time": "2021-05-27T07:42:18.075506Z"
    }
   },
   "outputs": [
    {
     "data": {
      "text/plain": [
       "array([1, 2, 3, 4, 5, 6, 7, 8, 9])"
      ]
     },
     "execution_count": 6,
     "metadata": {},
     "output_type": "execute_result"
    }
   ],
   "source": [
    "import numpy\n",
    "np.arange(1,10)"
   ]
  },
  {
   "cell_type": "code",
   "execution_count": null,
   "metadata": {},
   "outputs": [],
   "source": []
  },
  {
   "cell_type": "code",
   "execution_count": null,
   "metadata": {},
   "outputs": [],
   "source": []
  }
 ],
 "metadata": {
  "kernelspec": {
   "display_name": "Python 3",
   "language": "python",
   "name": "python3"
  },
  "language_info": {
   "codemirror_mode": {
    "name": "ipython",
    "version": 3
   },
   "file_extension": ".py",
   "mimetype": "text/x-python",
   "name": "python",
   "nbconvert_exporter": "python",
   "pygments_lexer": "ipython3",
   "version": "3.8.8"
  },
  "toc": {
   "base_numbering": 1,
   "nav_menu": {},
   "number_sections": true,
   "sideBar": true,
   "skip_h1_title": false,
   "title_cell": "Table of Contents",
   "title_sidebar": "Contents",
   "toc_cell": false,
   "toc_position": {},
   "toc_section_display": true,
   "toc_window_display": false
  },
  "varInspector": {
   "cols": {
    "lenName": 16,
    "lenType": 16,
    "lenVar": 40
   },
   "kernels_config": {
    "python": {
     "delete_cmd_postfix": "",
     "delete_cmd_prefix": "del ",
     "library": "var_list.py",
     "varRefreshCmd": "print(var_dic_list())"
    },
    "r": {
     "delete_cmd_postfix": ") ",
     "delete_cmd_prefix": "rm(",
     "library": "var_list.r",
     "varRefreshCmd": "cat(var_dic_list()) "
    }
   },
   "types_to_exclude": [
    "module",
    "function",
    "builtin_function_or_method",
    "instance",
    "_Feature"
   ],
   "window_display": false
  }
 },
 "nbformat": 4,
 "nbformat_minor": 4
}
